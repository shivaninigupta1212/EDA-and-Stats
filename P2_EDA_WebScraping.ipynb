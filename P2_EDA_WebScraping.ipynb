{
  "cells": [
    {
      "cell_type": "code",
      "execution_count": null,
      "id": "367ddf8a",
      "metadata": {
        "id": "367ddf8a"
      },
      "outputs": [],
      "source": [
        "import requests\n",
        "result = requests.get(\"http://www.imdb.com/search/title?sort=num_votes,desc&start=1&title_type=feature&year=1950,2012\")"
      ]
    },
    {
      "cell_type": "code",
      "source": [],
      "metadata": {
        "id": "cb8zQSBTLeSD"
      },
      "id": "cb8zQSBTLeSD",
      "execution_count": null,
      "outputs": []
    },
    {
      "cell_type": "code",
      "execution_count": null,
      "id": "d6f00e8a",
      "metadata": {
        "id": "d6f00e8a"
      },
      "outputs": [],
      "source": [
        "import bs4\n",
        "soup = bs4.BeautifulSoup(result.text,'lxml')"
      ]
    },
    {
      "cell_type": "code",
      "execution_count": null,
      "id": "a546b41c",
      "metadata": {
        "id": "a546b41c"
      },
      "outputs": [],
      "source": [
        "cases= soup.find_all(\"div\",class_=\"lister-item mode-advanced\")"
      ]
    },
    {
      "cell_type": "code",
      "execution_count": null,
      "id": "14280698",
      "metadata": {
        "id": "14280698",
        "outputId": "1a28cdd2-fd57-4948-f11d-a9a3f1d73a06"
      },
      "outputs": [
        {
          "name": "stdout",
          "output_type": "stream",
          "text": [
            "['142 min', '152 min', '148 min', '139 min', '142 min', '154 min', '136 min', '178 min', '175 min', '201 min', '164 min', '179 min', '127 min', '165 min', '155 min', '140 min', '153 min', '118 min', '143 min', '169 min', '121 min', '195 min', '130 min', '151 min', '138 min', '189 min', '124 min', '202 min', '113 min', '162 min', '116 min', '194 min', '122 min', '110 min', '145 min', '143 min', '132 min', '119 min', '98 min', '111 min', '137 min', '106 min', '103 min', '126 min', '88 min', '131 min', '100 min', '96 min', '178 min', '99 min']\n"
          ]
        }
      ],
      "source": [
        "year = []\n",
        "Run =[]\n",
        "name = []\n",
        "for i in cases:\n",
        "    year_mov= i.find(\"span\",class_=\"lister-item-year\")\n",
        "    year.append(year_mov.string)\n",
        "    runtime_mov= i.find(\"span\",class_=\"runtime\")\n",
        "    Run.append(runtime_mov.string)\n",
        "    name_mov = i.find('img')['alt']\n",
        "    name.append(name_mov)\n",
        "print(Run)"
      ]
    },
    {
      "cell_type": "code",
      "execution_count": null,
      "id": "1824e8ae",
      "metadata": {
        "id": "1824e8ae",
        "outputId": "73d109bd-150f-4bb8-bc33-095dda6aabb5"
      },
      "outputs": [
        {
          "name": "stdout",
          "output_type": "stream",
          "text": [
            "                                                 Name    Year  Runtime\n",
            "0                            The Shawshank Redemption  (1994)  142 min\n",
            "1                                     The Dark Knight  (2008)  152 min\n",
            "2                                           Inception  (2010)  148 min\n",
            "3                                          Fight Club  (1999)  139 min\n",
            "4                                        Forrest Gump  (1994)  142 min\n",
            "5                                        Pulp Fiction  (1994)  154 min\n",
            "6                                          The Matrix  (1999)  136 min\n",
            "7   The Lord of the Rings: The Fellowship of the Ring  (2001)  178 min\n",
            "8                                       The Godfather  (1972)  175 min\n",
            "9       The Lord of the Rings: The Return of the King  (2003)  201 min\n",
            "10                              The Dark Knight Rises  (2012)  164 min\n",
            "11              The Lord of the Rings: The Two Towers  (2002)  179 min\n",
            "12                                              Se7en  (1995)  127 min\n",
            "13                                   Django Unchained  (2012)  165 min\n",
            "14                                          Gladiator  (2000)  155 min\n",
            "15                                      Batman Begins  (2005)  140 min\n",
            "16                               Inglourious Basterds  (2009)  153 min\n",
            "17                           The Silence of the Lambs  (1991)  118 min\n",
            "18                                       The Avengers  (2012)  143 min\n",
            "19                                Saving Private Ryan  (1998)  169 min\n",
            "20                                          Star Wars  (1977)  121 min\n",
            "21                                   Schindler's List  (1993)  195 min\n",
            "22                                       The Prestige  (2006)  130 min\n",
            "23                                       The Departed  (2006)  151 min\n",
            "24                                     Shutter Island  (2010)  138 min\n",
            "25                                     The Green Mile  (1999)  189 min\n",
            "26                            The Empire Strikes Back  (1980)  124 min\n",
            "27                              The Godfather Part II  (1974)  202 min\n",
            "28                                            Memento  (2000)  113 min\n",
            "29                                             Avatar  (2009)  162 min\n",
            "30                                 Back to the Future  (1985)  116 min\n",
            "31                                            Titanic  (1997)  194 min\n",
            "32                                    American Beauty  (1999)  122 min\n",
            "33                                               Léon  (1994)  110 min\n",
            "34                                         Goodfellas  (1990)  145 min\n",
            "35  Pirates of the Caribbean: The Curse of the Bla...  (2003)  143 min\n",
            "36                                     V for Vendetta  (2006)  132 min\n",
            "37                                 American History X  (1998)  119 min\n",
            "38                                             WALL·E  (2008)   98 min\n",
            "39                                  Kill Bill: Vol. 1  (2003)  111 min\n",
            "40                         Terminator 2: Judgment Day  (1991)  137 min\n",
            "41                                 The Usual Suspects  (1995)  106 min\n",
            "42                                    The Truman Show  (1998)  103 min\n",
            "43                                           Iron Man  (2008)  126 min\n",
            "44                                      The Lion King  (1994)   88 min\n",
            "45         Star Wars: Episode VI - Return of the Jedi  (1983)  131 min\n",
            "46                                       Finding Nemo  (2003)  100 min\n",
            "47                                                 Up  (2009)   96 min\n",
            "48                                         Braveheart  (1995)  178 min\n",
            "49                                     Reservoir Dogs  (1992)   99 min\n"
          ]
        }
      ],
      "source": [
        "import pandas as pd\n",
        "dt=pd.DataFrame({'Name':name,'Year':year,'Runtime':Run})\n",
        "print(dt)"
      ]
    },
    {
      "cell_type": "code",
      "execution_count": null,
      "id": "1838b86c",
      "metadata": {
        "id": "1838b86c"
      },
      "outputs": [],
      "source": []
    },
    {
      "cell_type": "code",
      "execution_count": null,
      "id": "921770c2",
      "metadata": {
        "id": "921770c2"
      },
      "outputs": [],
      "source": []
    }
  ],
  "metadata": {
    "kernelspec": {
      "display_name": "Python 3 (ipykernel)",
      "language": "python",
      "name": "python3"
    },
    "language_info": {
      "codemirror_mode": {
        "name": "ipython",
        "version": 3
      },
      "file_extension": ".py",
      "mimetype": "text/x-python",
      "name": "python",
      "nbconvert_exporter": "python",
      "pygments_lexer": "ipython3",
      "version": "3.9.12"
    },
    "colab": {
      "provenance": []
    }
  },
  "nbformat": 4,
  "nbformat_minor": 5
}