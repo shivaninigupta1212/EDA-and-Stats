{
 "cells": [
  {
   "cell_type": "code",
   "execution_count": 1,
   "metadata": {
    "_cell_guid": "b1076dfc-b9ad-4769-8c92-a6c4dae69d19",
    "_uuid": "8f2839f25d086af736a60e9eeb907d3b93b6e0e5"
   },
   "outputs": [
    {
     "name": "stdout",
     "output_type": "stream",
     "text": [
      "/kaggle/input/iris/database.sqlite\n",
      "/kaggle/input/iris/Iris.csv\n"
     ]
    }
   ],
   "source": [
    "# This Python 3 environment comes with many helpful analytics libraries installed\n",
    "# It is defined by the kaggle/python docker image: https://github.com/kaggle/docker-python\n",
    "# For example, here's several helpful packages to load in \n",
    "\n",
    "import numpy as np # linear algebra\n",
    "import pandas as pd # data processing, CSV file I/O (e.g. pd.read_csv)\n",
    "\n",
    "# Input data files are available in the \"../input/\" directory.\n",
    "# For example, running this (by clicking run or pressing Shift+Enter) will list all files under the input directory\n",
    "\n",
    "import os\n",
    "for dirname, _, filenames in os.walk('/kaggle/input'):\n",
    "    for filename in filenames:\n",
    "        print(os.path.join(dirname, filename))\n",
    "\n",
    "# Any results you write to the current directory are saved as output."
   ]
  },
  {
   "cell_type": "markdown",
   "metadata": {},
   "source": [
    "**Importing Packages**"
   ]
  },
  {
   "cell_type": "code",
   "execution_count": 2,
   "metadata": {
    "_cell_guid": "79c7e3d0-c299-4dcb-8224-4455121ee9b0",
    "_uuid": "d629ff2d2480ee46fbb7e2d37f6b5fab8052498a"
   },
   "outputs": [],
   "source": [
    "import pandas as pd\n",
    "import numpy as np\n",
    "import seaborn as sns\n",
    "import matplotlib.pyplot as plt\n",
    "from sklearn.preprocessing import StandardScaler, RobustScaler, MinMaxScaler\n",
    "from sklearn.model_selection import KFold\n",
    "from sklearn.ensemble import RandomForestClassifier\n",
    "from sklearn.svm import SVC\n",
    "from sklearn.tree import DecisionTreeClassifier\n",
    "from sklearn.naive_bayes import GaussianNB\n",
    "from sklearn.model_selection import cross_val_score\n",
    "from sklearn.neighbors import KNeighborsClassifier\n",
    "from sklearn.linear_model import LogisticRegression\n",
    "from sklearn.model_selection import GridSearchCV\n",
    "from scipy.stats import chi2_contingency,shapiro, fisher_exact\n",
    "import matplotlib.pyplot as plt\n",
    "from sklearn.metrics import accuracy_score, make_scorer\n",
    "from sklearn.model_selection import train_test_split\n",
    "from sklearn.pipeline import make_pipeline\n",
    "from sklearn.svm import SVC\n",
    "from statsmodels.multivariate.manova import MANOVA\n",
    "\n",
    "from scipy.stats import chi2\n",
    "\n",
    "import warnings\n",
    "warnings.filterwarnings('ignore')"
   ]
  },
  {
   "cell_type": "code",
   "execution_count": 3,
   "metadata": {},
   "outputs": [
    {
     "name": "stdout",
     "output_type": "stream",
     "text": [
      "<class 'pandas.core.frame.DataFrame'>\n",
      "Int64Index: 150 entries, 1 to 150\n",
      "Data columns (total 5 columns):\n",
      "SepalLengthCm    150 non-null float64\n",
      "SepalWidthCm     150 non-null float64\n",
      "PetalLengthCm    150 non-null float64\n",
      "PetalWidthCm     150 non-null float64\n",
      "Species          150 non-null object\n",
      "dtypes: float64(4), object(1)\n",
      "memory usage: 7.0+ KB\n"
     ]
    }
   ],
   "source": [
    "#load the dataset with index column as Id\n",
    "data = pd.read_csv('/kaggle/input/iris/Iris.csv', index_col=0) \n",
    "#checking if there is any inconsistency in the dataset\n",
    "data.info()\n"
   ]
  },
  {
   "cell_type": "code",
   "execution_count": 4,
   "metadata": {},
   "outputs": [
    {
     "data": {
      "text/plain": [
       "pandas.core.frame.DataFrame"
      ]
     },
     "execution_count": 4,
     "metadata": {},
     "output_type": "execute_result"
    }
   ],
   "source": [
    "type(data)"
   ]
  },
  {
   "cell_type": "code",
   "execution_count": 5,
   "metadata": {},
   "outputs": [
    {
     "data": {
      "text/html": [
       "<div>\n",
       "<style scoped>\n",
       "    .dataframe tbody tr th:only-of-type {\n",
       "        vertical-align: middle;\n",
       "    }\n",
       "\n",
       "    .dataframe tbody tr th {\n",
       "        vertical-align: top;\n",
       "    }\n",
       "\n",
       "    .dataframe thead th {\n",
       "        text-align: right;\n",
       "    }\n",
       "</style>\n",
       "<table border=\"1\" class=\"dataframe\">\n",
       "  <thead>\n",
       "    <tr style=\"text-align: right;\">\n",
       "      <th></th>\n",
       "      <th>SepalLengthCm</th>\n",
       "      <th>SepalWidthCm</th>\n",
       "      <th>PetalLengthCm</th>\n",
       "      <th>PetalWidthCm</th>\n",
       "    </tr>\n",
       "  </thead>\n",
       "  <tbody>\n",
       "    <tr>\n",
       "      <td>count</td>\n",
       "      <td>150.000000</td>\n",
       "      <td>150.000000</td>\n",
       "      <td>150.000000</td>\n",
       "      <td>150.000000</td>\n",
       "    </tr>\n",
       "    <tr>\n",
       "      <td>mean</td>\n",
       "      <td>5.843333</td>\n",
       "      <td>3.054000</td>\n",
       "      <td>3.758667</td>\n",
       "      <td>1.198667</td>\n",
       "    </tr>\n",
       "    <tr>\n",
       "      <td>std</td>\n",
       "      <td>0.828066</td>\n",
       "      <td>0.433594</td>\n",
       "      <td>1.764420</td>\n",
       "      <td>0.763161</td>\n",
       "    </tr>\n",
       "    <tr>\n",
       "      <td>min</td>\n",
       "      <td>4.300000</td>\n",
       "      <td>2.000000</td>\n",
       "      <td>1.000000</td>\n",
       "      <td>0.100000</td>\n",
       "    </tr>\n",
       "    <tr>\n",
       "      <td>25%</td>\n",
       "      <td>5.100000</td>\n",
       "      <td>2.800000</td>\n",
       "      <td>1.600000</td>\n",
       "      <td>0.300000</td>\n",
       "    </tr>\n",
       "    <tr>\n",
       "      <td>50%</td>\n",
       "      <td>5.800000</td>\n",
       "      <td>3.000000</td>\n",
       "      <td>4.350000</td>\n",
       "      <td>1.300000</td>\n",
       "    </tr>\n",
       "    <tr>\n",
       "      <td>75%</td>\n",
       "      <td>6.400000</td>\n",
       "      <td>3.300000</td>\n",
       "      <td>5.100000</td>\n",
       "      <td>1.800000</td>\n",
       "    </tr>\n",
       "    <tr>\n",
       "      <td>max</td>\n",
       "      <td>7.900000</td>\n",
       "      <td>4.400000</td>\n",
       "      <td>6.900000</td>\n",
       "      <td>2.500000</td>\n",
       "    </tr>\n",
       "  </tbody>\n",
       "</table>\n",
       "</div>"
      ],
      "text/plain": [
       "       SepalLengthCm  SepalWidthCm  PetalLengthCm  PetalWidthCm\n",
       "count     150.000000    150.000000     150.000000    150.000000\n",
       "mean        5.843333      3.054000       3.758667      1.198667\n",
       "std         0.828066      0.433594       1.764420      0.763161\n",
       "min         4.300000      2.000000       1.000000      0.100000\n",
       "25%         5.100000      2.800000       1.600000      0.300000\n",
       "50%         5.800000      3.000000       4.350000      1.300000\n",
       "75%         6.400000      3.300000       5.100000      1.800000\n",
       "max         7.900000      4.400000       6.900000      2.500000"
      ]
     },
     "execution_count": 5,
     "metadata": {},
     "output_type": "execute_result"
    }
   ],
   "source": [
    "#Descriptive statistics\n",
    "#Summarize all numeric columns\n",
    "data.describe() \n",
    "\n"
   ]
  },
  {
   "cell_type": "code",
   "execution_count": 6,
   "metadata": {},
   "outputs": [
    {
     "data": {
      "text/plain": [
       "<matplotlib.axes._subplots.AxesSubplot at 0x7fe89acc07f0>"
      ]
     },
     "execution_count": 6,
     "metadata": {},
     "output_type": "execute_result"
    },
    {
     "data": {
      "image/png": "[encoded data removed]",
      "text/plain": [
       "<Figure size 432x288 with 1 Axes>"
      ]
     },
     "metadata": {
      "needs_background": "light"
     },
     "output_type": "display_data"
    }
   ],
   "source": [
    "#check distribution of data\n",
    "\n",
    "sns.distplot(data['SepalLengthCm'])\n",
    "\n"
   ]
  },
  {
   "cell_type": "code",
   "execution_count": 7,
   "metadata": {},
   "outputs": [
    {
     "data": {
      "text/plain": [
       "<matplotlib.axes._subplots.AxesSubplot at 0x7fe89abe92b0>"
      ]
     },
     "execution_count": 7,
     "metadata": {},
     "output_type": "execute_result"
    },
    {
     "data": {
      "image/png": "[encoded data removed]",
      "text/plain": [
       "<Figure size 432x288 with 1 Axes>"
      ]
     },
     "metadata": {
      "needs_background": "light"
     },
     "output_type": "display_data"
    }
   ],
   "source": [
    "sns.distplot(data['SepalWidthCm'])\n"
   ]
  },
  {
   "cell_type": "code",
   "execution_count": 8,
   "metadata": {},
   "outputs": [
    {
     "data": {
      "text/plain": [
       "<matplotlib.axes._subplots.AxesSubplot at 0x7fe89ab87cc0>"
      ]
     },
     "execution_count": 8,
     "metadata": {},
     "output_type": "execute_result"
    },
    {
     "data": {
      "image/png": "[encoded data removed]",
      "text/plain": [
       "<Figure size 432x288 with 1 Axes>"
      ]
     },
     "metadata": {
      "needs_background": "light"
     },
     "output_type": "display_data"
    }
   ],
   "source": [
    "sns.distplot(data['PetalLengthCm'])\n"
   ]
  },
  {
   "cell_type": "code",
   "execution_count": 9,
   "metadata": {},
   "outputs": [
    {
     "data": {
      "text/plain": [
       "<matplotlib.axes._subplots.AxesSubplot at 0x7fe89ab02d30>"
      ]
     },
     "execution_count": 9,
     "metadata": {},
     "output_type": "execute_result"
    },
    {
     "data": {
      "image/png": "[encoded data removed]",
      "text/plain": [
       "<Figure size 432x288 with 1 Axes>"
      ]
     },
     "metadata": {
      "needs_background": "light"
     },
     "output_type": "display_data"
    }
   ],
   "source": [
    "sns.distplot(data['PetalWidthCm'])"
   ]
  },
  {
   "cell_type": "code",
   "execution_count": 10,
   "metadata": {},
   "outputs": [
    {
     "name": "stdout",
     "output_type": "stream",
     "text": [
      "Statistics=0.976, p=0.010\n",
      "SepalLengthCm feature distribution does not look normal (reject H0)\n",
      "Statistics=0.984, p=0.075\n",
      "SepalWidthCm feature distribution looks normal (fail to reject H0)\n",
      "Statistics=0.876, p=0.000\n",
      "PetalLengthCm feature distribution does not look normal (reject H0)\n",
      "Statistics=0.903, p=0.000\n",
      "PetalWidthCm feature distribution does not look normal (reject H0)\n"
     ]
    }
   ],
   "source": [
    "#The Shapiro-Wilk test evaluates a data sample and quantifies how likely it is that \n",
    "#the data was drawn from a normal distribution, named for Samuel Shapiro and Martin Wilk.\n",
    "\n",
    "stat, p = shapiro(data['SepalLengthCm'])\n",
    "print('Statistics=%.3f, p=%.3f' % (stat, p))\n",
    "# interpret\n",
    "alpha = 0.05\n",
    "if p > alpha:\n",
    "    print('SepalLengthCm feature distribution looks normal (fail to reject H0)')\n",
    "else:\n",
    "    print('SepalLengthCm feature distribution does not look normal (reject H0)')\n",
    "    \n",
    "\n",
    "stat, p = shapiro(data['SepalWidthCm'])\n",
    "print('Statistics=%.3f, p=%.3f' % (stat, p))\n",
    "# interpret\n",
    "alpha = 0.05\n",
    "if p > alpha:\n",
    "    print('SepalWidthCm feature distribution looks normal (fail to reject H0)')\n",
    "else:\n",
    "    print('SepalWidthCm feature distribution does not look normal (reject H0)')\n",
    "    \n",
    "\n",
    "stat, p = shapiro(data['PetalLengthCm'])\n",
    "print('Statistics=%.3f, p=%.3f' % (stat, p))\n",
    "# interpret\n",
    "alpha = 0.05\n",
    "if p > alpha:\n",
    "    print('PetalLengthCm feature distribution looks normal (fail to reject H0)')\n",
    "else:\n",
    "    print('PetalLengthCm feature distribution does not look normal (reject H0)')\n",
    "\n",
    "stat, p = shapiro(data['PetalWidthCm'])\n",
    "print('Statistics=%.3f, p=%.3f' % (stat, p))\n",
    "# interpret\n",
    "alpha = 0.05\n",
    "if p > alpha:\n",
    "    print('PetalWidthCm feature distribution looks normal (fail to reject H0)')\n",
    "else:\n",
    "    print('PetalWidthCm feature distribution does not look normal (reject H0)')"
   ]
  },
  {
   "cell_type": "code",
   "execution_count": 11,
   "metadata": {},
   "outputs": [
    {
     "data": {
      "text/plain": [
       "Iris-virginica     50\n",
       "Iris-versicolor    50\n",
       "Iris-setosa        50\n",
       "Name: Species, dtype: int64"
      ]
     },
     "execution_count": 11,
     "metadata": {},
     "output_type": "execute_result"
    }
   ],
   "source": [
    "data['Species'].value_counts()"
   ]
  },
  {
   "cell_type": "code",
   "execution_count": 12,
   "metadata": {},
   "outputs": [
    {
     "name": "stdout",
     "output_type": "stream",
     "text": [
      "SepalLengthCm   0.6856935123042505\n",
      "SepalWidthCm   0.18800402684563763\n",
      "PetalLengthCm   3.1131794183445156\n",
      "PetalWidthCm   0.5824143176733784\n"
     ]
    }
   ],
   "source": [
    "#Compute the featureswise variance i.e. measure of the spread of a distribution\n",
    "#The variance is the average of the squared deviations from the mean, i.e., var = mean(abs(x - x.mean())**2).\n",
    "\n",
    "for i in data.columns:\n",
    "    if i != 'Species':\n",
    "        print(i, ' ' , data[i].var())"
   ]
  },
  {
   "cell_type": "code",
   "execution_count": 13,
   "metadata": {},
   "outputs": [
    {
     "data": {
      "text/plain": [
       "Iris-virginica     50\n",
       "Iris-versicolor    50\n",
       "Iris-setosa        50\n",
       "Name: Species, dtype: int64"
      ]
     },
     "execution_count": 13,
     "metadata": {},
     "output_type": "execute_result"
    }
   ],
   "source": [
    "#checking if this is multiclass problem or binary classsification problem\n",
    "data['Species'].value_counts() \n"
   ]
  },
  {
   "cell_type": "code",
   "execution_count": 14,
   "metadata": {},
   "outputs": [
    {
     "data": {
      "text/plain": [
       "<matplotlib.collections.PathCollection at 0x7fe89aa2e1d0>"
      ]
     },
     "execution_count": 14,
     "metadata": {},
     "output_type": "execute_result"
    },
    {
     "data": {
      "image/png": "[encoded data removed]",
      "text/plain": [
       "<Figure size 432x288 with 1 Axes>"
      ]
     },
     "metadata": {
      "needs_background": "light"
     },
     "output_type": "display_data"
    }
   ],
   "source": [
    "fig, axes = plt.subplots(ncols=1, nrows=1)\n",
    "axes.scatter(x=data[data['Species']=='Iris-virginica']['SepalLengthCm'], y=data[data['Species']=='Iris-virginica']['SepalWidthCm'], color='green')\n",
    "axes.scatter(x=data[data['Species']=='Iris-versicolor']['SepalLengthCm'], y=data[data['Species']=='Iris-versicolor']['SepalWidthCm'], color='blue')\n",
    "axes.scatter(x=data[data['Species']=='Iris-setosa']['SepalLengthCm'], y=data[data['Species']=='Iris-setosa']['SepalWidthCm'], color='black')\n",
    "\n"
   ]
  },
  {
   "cell_type": "code",
   "execution_count": 15,
   "metadata": {},
   "outputs": [
    {
     "data": {
      "text/html": [
       "<div>\n",
       "<style scoped>\n",
       "    .dataframe tbody tr th:only-of-type {\n",
       "        vertical-align: middle;\n",
       "    }\n",
       "\n",
       "    .dataframe tbody tr th {\n",
       "        vertical-align: top;\n",
       "    }\n",
       "\n",
       "    .dataframe thead th {\n",
       "        text-align: right;\n",
       "    }\n",
       "</style>\n",
       "<table border=\"1\" class=\"dataframe\">\n",
       "  <thead>\n",
       "    <tr style=\"text-align: right;\">\n",
       "      <th></th>\n",
       "      <th>SepalLengthCm</th>\n",
       "      <th>SepalWidthCm</th>\n",
       "      <th>PetalLengthCm</th>\n",
       "      <th>PetalWidthCm</th>\n",
       "    </tr>\n",
       "  </thead>\n",
       "  <tbody>\n",
       "    <tr>\n",
       "      <td>SepalLengthCm</td>\n",
       "      <td>1.000000</td>\n",
       "      <td>-0.109369</td>\n",
       "      <td>0.871754</td>\n",
       "      <td>0.817954</td>\n",
       "    </tr>\n",
       "    <tr>\n",
       "      <td>SepalWidthCm</td>\n",
       "      <td>-0.109369</td>\n",
       "      <td>1.000000</td>\n",
       "      <td>-0.420516</td>\n",
       "      <td>-0.356544</td>\n",
       "    </tr>\n",
       "    <tr>\n",
       "      <td>PetalLengthCm</td>\n",
       "      <td>0.871754</td>\n",
       "      <td>-0.420516</td>\n",
       "      <td>1.000000</td>\n",
       "      <td>0.962757</td>\n",
       "    </tr>\n",
       "    <tr>\n",
       "      <td>PetalWidthCm</td>\n",
       "      <td>0.817954</td>\n",
       "      <td>-0.356544</td>\n",
       "      <td>0.962757</td>\n",
       "      <td>1.000000</td>\n",
       "    </tr>\n",
       "  </tbody>\n",
       "</table>\n",
       "</div>"
      ],
      "text/plain": [
       "               SepalLengthCm  SepalWidthCm  PetalLengthCm  PetalWidthCm\n",
       "SepalLengthCm       1.000000     -0.109369       0.871754      0.817954\n",
       "SepalWidthCm       -0.109369      1.000000      -0.420516     -0.356544\n",
       "PetalLengthCm       0.871754     -0.420516       1.000000      0.962757\n",
       "PetalWidthCm        0.817954     -0.356544       0.962757      1.000000"
      ]
     },
     "execution_count": 15,
     "metadata": {},
     "output_type": "execute_result"
    }
   ],
   "source": [
    "#compute pairwise correlation of features\n",
    "data.corr()"
   ]
  },
  {
   "cell_type": "code",
   "execution_count": 16,
   "metadata": {},
   "outputs": [
    {
     "name": "stdout",
     "output_type": "stream",
     "text": [
      "                   Multivariate linear model\n",
      "================================================================\n",
      "                                                                \n",
      "----------------------------------------------------------------\n",
      "       Intercept         Value  Num DF  Den DF   F Value  Pr > F\n",
      "----------------------------------------------------------------\n",
      "          Wilks' lambda  0.0170 4.0000 144.0000 2080.5278 0.0000\n",
      "         Pillai's trace  0.9830 4.0000 144.0000 2080.5278 0.0000\n",
      " Hotelling-Lawley trace 57.7924 4.0000 144.0000 2080.5278 0.0000\n",
      "    Roy's greatest root 57.7924 4.0000 144.0000 2080.5278 0.0000\n",
      "----------------------------------------------------------------\n",
      "                                                                \n",
      "----------------------------------------------------------------\n",
      "        Species          Value  Num DF  Den DF   F Value  Pr > F\n",
      "----------------------------------------------------------------\n",
      "          Wilks' lambda  0.0235 8.0000 288.0000  198.7110 0.0000\n",
      "         Pillai's trace  1.1872 8.0000 290.0000   52.9486 0.0000\n",
      " Hotelling-Lawley trace 32.5495 8.0000 203.4024  583.4914 0.0000\n",
      "    Roy's greatest root 32.2720 4.0000 145.0000 1169.8585 0.0000\n",
      "================================================================\n",
      "\n"
     ]
    }
   ],
   "source": [
    "maov = MANOVA.from_formula('SepalLengthCm + SepalWidthCm + \\\n",
    "                            PetalLengthCm + PetalWidthCm  ~ Species', data=data)\n",
    "print(maov.mv_test())"
   ]
  },
  {
   "cell_type": "markdown",
   "metadata": {},
   "source": [
    "Let's use chi-square test to understand relationship between categorical variables and target variable.\n",
    "\n",
    "\n",
    "**Assume Null hypothesys -**\n",
    "Ho: Variables A(SepalLengthCm/SepalWidthCm/PetalLengthCm/PetalLengthCm) and Variable B(Species) are independent.\n",
    "\n",
    "\n",
    "**Assume alternate hypothesys -**\n",
    "Ha: Variable A SepalLengthCm/SepalWidthCm/PetalLengthCm/PetalLengthCm)and Variable B(Species) are not independent.\n",
    "\n",
    "Significance level : 0.05"
   ]
  },
  {
   "cell_type": "code",
   "execution_count": 17,
   "metadata": {},
   "outputs": [
    {
     "name": "stdout",
     "output_type": "stream",
     "text": [
      "Ho: Species and SepalLengthCm are not independent features\n",
      "Ha: Species and SepalLengthCm are independent features\n",
      "chi_squared_stat : 156.26666666666668\n",
      "Dependent : Reject Hypothesis 0 (null Hypothesis)\n",
      "Significance 0.050000000000000044, 6.665987344005466e-09\n",
      "Dependent : Reject Hypothesis 0 (null Hypothesis)\n"
     ]
    }
   ],
   "source": [
    "print('Ho: Species and SepalLengthCm are not independent features')\n",
    "print('Ha: Species and SepalLengthCm are independent features')\n",
    "\n",
    "chi_squared_stat, p_value, dof, expected=chi2_contingency(pd.crosstab(data['Species'], data['SepalLengthCm']))\n",
    "print(\"chi_squared_stat :\", chi_squared_stat)\n",
    "probability=0.95\n",
    "critical=chi2.ppf(probability, dof)\n",
    "if abs(chi_squared_stat)>=critical:\n",
    "    print('Dependent : Reject Hypothesis 0 (null Hypothesis)')\n",
    "elif abs(chi_squared_stat)<critical:\n",
    "    print('Inependent : Fail to Reject Hypothesis 0 (null Hypothesis)')\n",
    "    \n",
    "alpha = 1.0 - probability\n",
    "print('Significance {0}, {1}'.format(alpha, p_value))\n",
    "if p_value<=alpha:\n",
    "    print(\"Dependent : Reject Hypothesis 0 (null Hypothesis)\")\n",
    "else:\n",
    "    print('Inependent : Fail to Reject Hypothesis 0 (null Hypothesis)')\n",
    "        \n",
    "    print('================================================================')"
   ]
  },
  {
   "cell_type": "code",
   "execution_count": 18,
   "metadata": {},
   "outputs": [
    {
     "name": "stdout",
     "output_type": "stream",
     "text": [
      "Ho: Species and SepalWidthCm are not independent features\n",
      "Ha: Species and SepalWidthCm are independent features\n",
      "chi_squared_stat : 88.36446886446886\n",
      "Dependent : Reject Hypothesis 0 (null Hypothesis)\n",
      "Significance 0.050000000000000044, 8.303947787862062e-05\n",
      "Dependent : Reject Hypothesis 0 (null Hypothesis)\n"
     ]
    }
   ],
   "source": [
    "print('Ho: Species and SepalWidthCm are not independent features')\n",
    "print('Ha: Species and SepalWidthCm are independent features')\n",
    "\n",
    "chi_squared_stat, p_value, dof, expected=chi2_contingency(pd.crosstab(data['Species'], data['SepalWidthCm']))\n",
    "print(\"chi_squared_stat :\", chi_squared_stat)\n",
    "probability=0.95\n",
    "critical=chi2.ppf(probability, dof)\n",
    "if abs(chi_squared_stat)>=critical:\n",
    "    print('Dependent : Reject Hypothesis 0 (null Hypothesis)')\n",
    "elif abs(chi_squared_stat)<critical:\n",
    "    print('Inependent : Fail to Reject Hypothesis 0 (null Hypothesis)')\n",
    "    \n",
    "alpha = 1.0 - probability\n",
    "print('Significance {0}, {1}'.format(alpha, p_value))\n",
    "if p_value<=alpha:\n",
    "    print(\"Dependent : Reject Hypothesis 0 (null Hypothesis)\")\n",
    "else:\n",
    "    print('Inependent : Fail to Reject Hypothesis 0 (null Hypothesis)')\n",
    "        \n",
    "    print('================================================================')"
   ]
  },
  {
   "cell_type": "code",
   "execution_count": 19,
   "metadata": {},
   "outputs": [
    {
     "name": "stdout",
     "output_type": "stream",
     "text": [
      "Ho: Species and PetalLengthCm are not independent features\n",
      "Ha: Species and PetalLengthCm are independent features\n",
      "chi_squared_stat : 271.79999999999995\n",
      "Dependent : Reject Hypothesis 0 (null Hypothesis)\n",
      "Significance 0.050000000000000044, 1.1775672327529825e-21\n",
      "Dependent : Reject Hypothesis 0 (null Hypothesis)\n"
     ]
    }
   ],
   "source": [
    "print('Ho: Species and PetalLengthCm are not independent features')\n",
    "print('Ha: Species and PetalLengthCm are independent features')\n",
    "\n",
    "chi_squared_stat, p_value, dof, expected=chi2_contingency(pd.crosstab(data['Species'], data['PetalLengthCm']))\n",
    "print(\"chi_squared_stat :\", chi_squared_stat)\n",
    "probability=0.95\n",
    "critical=chi2.ppf(probability, dof)\n",
    "if abs(chi_squared_stat)>=critical:\n",
    "    print('Dependent : Reject Hypothesis 0 (null Hypothesis)')\n",
    "elif abs(chi_squared_stat)<critical:\n",
    "    print('Inependent : Fail to Reject Hypothesis 0 (null Hypothesis)')\n",
    "    \n",
    "alpha = 1.0 - probability\n",
    "print('Significance {0}, {1}'.format(alpha, p_value))\n",
    "if p_value<=alpha:\n",
    "    print(\"Dependent : Reject Hypothesis 0 (null Hypothesis)\")\n",
    "else:\n",
    "    print('Inependent : Fail to Reject Hypothesis 0 (null Hypothesis)')\n",
    "        \n",
    "    print('================================================================')"
   ]
  },
  {
   "cell_type": "code",
   "execution_count": 20,
   "metadata": {},
   "outputs": [
    {
     "name": "stdout",
     "output_type": "stream",
     "text": [
      "Ho: Species and PetalWidthCm are not independent features\n",
      "Ha: Species and PetalWidthCm are independent features\n",
      "chi_squared_stat : 271.75\n",
      "Dependent : Reject Hypothesis 0 (null Hypothesis)\n",
      "Significance 0.050000000000000044, 2.1648103108815957e-35\n",
      "Dependent : Reject Hypothesis 0 (null Hypothesis)\n"
     ]
    }
   ],
   "source": [
    "print('Ho: Species and PetalWidthCm are not independent features')\n",
    "print('Ha: Species and PetalWidthCm are independent features')\n",
    "\n",
    "chi_squared_stat, p_value, dof, expected=chi2_contingency(pd.crosstab(data['Species'], data['PetalWidthCm']))\n",
    "print(\"chi_squared_stat :\", chi_squared_stat)\n",
    "probability=0.95\n",
    "critical=chi2.ppf(probability, dof)\n",
    "if abs(chi_squared_stat)>=critical:\n",
    "    print('Dependent : Reject Hypothesis 0 (null Hypothesis)')\n",
    "elif abs(chi_squared_stat)<critical:\n",
    "    print('Inependent : Fail to Reject Hypothesis 0 (null Hypothesis)')\n",
    "    \n",
    "alpha = 1.0 - probability\n",
    "print('Significance {0}, {1}'.format(alpha, p_value))\n",
    "if p_value<=alpha:\n",
    "    print(\"Dependent : Reject Hypothesis 0 (null Hypothesis)\")\n",
    "else:\n",
    "    print('Inependent : Fail to Reject Hypothesis 0 (null Hypothesis)')\n",
    "        \n",
    "    print('================================================================')"
   ]
  },
  {
   "cell_type": "markdown",
   "metadata": {},
   "source": [
    "From above analysis, we can say that varibles A (SepalLengthCm/SepalWidthCm/PetalLengthCm/PetalLengthCm) and Variable B(Species) are dependent on each other"
   ]
  },
  {
   "cell_type": "code",
   "execution_count": 21,
   "metadata": {},
   "outputs": [
    {
     "data": {
      "text/plain": [
       "(150,)"
      ]
     },
     "execution_count": 21,
     "metadata": {},
     "output_type": "execute_result"
    }
   ],
   "source": [
    "data['Species'].shape"
   ]
  },
  {
   "cell_type": "code",
   "execution_count": 22,
   "metadata": {},
   "outputs": [
    {
     "data": {
      "text/plain": [
       "(150,)"
      ]
     },
     "execution_count": 22,
     "metadata": {},
     "output_type": "execute_result"
    }
   ],
   "source": [
    "data['PetalWidthCm'].shape"
   ]
  },
  {
   "cell_type": "markdown",
   "metadata": {},
   "source": [
    "**Quality check**"
   ]
  },
  {
   "cell_type": "code",
   "execution_count": 23,
   "metadata": {},
   "outputs": [],
   "source": [
    "#Remove duplicate data\n",
    "data =data.drop_duplicates()"
   ]
  },
  {
   "cell_type": "code",
   "execution_count": 24,
   "metadata": {},
   "outputs": [
    {
     "data": {
      "text/plain": [
       "(147, 5)"
      ]
     },
     "execution_count": 24,
     "metadata": {},
     "output_type": "execute_result"
    }
   ],
   "source": [
    "data.shape"
   ]
  },
  {
   "cell_type": "code",
   "execution_count": 25,
   "metadata": {},
   "outputs": [
    {
     "data": {
      "text/plain": [
       "SepalLengthCm    0\n",
       "SepalWidthCm     0\n",
       "PetalLengthCm    0\n",
       "PetalWidthCm     0\n",
       "Species          0\n",
       "dtype: int64"
      ]
     },
     "execution_count": 25,
     "metadata": {},
     "output_type": "execute_result"
    }
   ],
   "source": [
    "#Missing data\n",
    "data.isna().sum()"
   ]
  },
  {
   "cell_type": "markdown",
   "metadata": {},
   "source": [
    "**Dealing with outliers**"
   ]
  },
  {
   "cell_type": "code",
   "execution_count": 26,
   "metadata": {},
   "outputs": [
    {
     "data": {
      "text/plain": [
       "{'whiskers': [<matplotlib.lines.Line2D at 0x7fe898146ac8>,\n",
       "  <matplotlib.lines.Line2D at 0x7fe898146e10>],\n",
       " 'caps': [<matplotlib.lines.Line2D at 0x7fe8980d3198>,\n",
       "  <matplotlib.lines.Line2D at 0x7fe8980d34e0>],\n",
       " 'boxes': [<matplotlib.lines.Line2D at 0x7fe898146978>],\n",
       " 'medians': [<matplotlib.lines.Line2D at 0x7fe8980d3828>],\n",
       " 'fliers': [<matplotlib.lines.Line2D at 0x7fe8980d3b70>],\n",
       " 'means': []}"
      ]
     },
     "execution_count": 26,
     "metadata": {},
     "output_type": "execute_result"
    },
    {
     "data": {
      "image/png": "[encoded data removed]",
      "text/plain": [
       "<Figure size 432x288 with 1 Axes>"
      ]
     },
     "metadata": {
      "needs_background": "light"
     },
     "output_type": "display_data"
    }
   ],
   "source": [
    "plt.boxplot(data['SepalLengthCm'], labels=['SepalLengthCm'])"
   ]
  },
  {
   "cell_type": "code",
   "execution_count": 27,
   "metadata": {},
   "outputs": [
    {
     "data": {
      "text/plain": [
       "{'whiskers': [<matplotlib.lines.Line2D at 0x7fe89809cdd8>,\n",
       "  <matplotlib.lines.Line2D at 0x7fe8980a7198>],\n",
       " 'caps': [<matplotlib.lines.Line2D at 0x7fe8980a74e0>,\n",
       "  <matplotlib.lines.Line2D at 0x7fe8980a7828>],\n",
       " 'boxes': [<matplotlib.lines.Line2D at 0x7fe89809cc88>],\n",
       " 'medians': [<matplotlib.lines.Line2D at 0x7fe8980a7b70>],\n",
       " 'fliers': [<matplotlib.lines.Line2D at 0x7fe8980a7eb8>],\n",
       " 'means': []}"
      ]
     },
     "execution_count": 27,
     "metadata": {},
     "output_type": "execute_result"
    },
    {
     "data": {
      "image/png": "[encoded data removed]",
      "text/plain": [
       "<Figure size 432x288 with 1 Axes>"
      ]
     },
     "metadata": {
      "needs_background": "light"
     },
     "output_type": "display_data"
    }
   ],
   "source": [
    "plt.boxplot(data['PetalLengthCm'], labels=['PetalLengthCm'])\n"
   ]
  },
  {
   "cell_type": "code",
   "execution_count": 28,
   "metadata": {},
   "outputs": [
    {
     "data": {
      "text/plain": [
       "{'whiskers': [<matplotlib.lines.Line2D at 0x7fe898078978>,\n",
       "  <matplotlib.lines.Line2D at 0x7fe898078cf8>],\n",
       " 'caps': [<matplotlib.lines.Line2D at 0x7fe898081080>,\n",
       "  <matplotlib.lines.Line2D at 0x7fe8980813c8>],\n",
       " 'boxes': [<matplotlib.lines.Line2D at 0x7fe898078828>],\n",
       " 'medians': [<matplotlib.lines.Line2D at 0x7fe898081710>],\n",
       " 'fliers': [<matplotlib.lines.Line2D at 0x7fe898081a58>],\n",
       " 'means': []}"
      ]
     },
     "execution_count": 28,
     "metadata": {},
     "output_type": "execute_result"
    },
    {
     "data": {
      "image/png": "[encoded data removed]",
      "text/plain": [
       "<Figure size 432x288 with 1 Axes>"
      ]
     },
     "metadata": {
      "needs_background": "light"
     },
     "output_type": "display_data"
    }
   ],
   "source": [
    "plt.boxplot(data['SepalWidthCm'], labels=['SepalWidthCm'])"
   ]
  },
  {
   "cell_type": "markdown",
   "metadata": {},
   "source": [
    "Statistically identify outliers in a pandas Series using interquartile range method."
   ]
  },
  {
   "cell_type": "code",
   "execution_count": 29,
   "metadata": {},
   "outputs": [],
   "source": [
    "q25, q75 = np.percentile(data['SepalWidthCm'], 25), np.percentile(data['SepalWidthCm'], 75)\n",
    "iqr = q75 - q25\n",
    "cut_off = iqr * 1.5   \n",
    "lower, upper = q25 - cut_off, q75 + cut_off"
   ]
  },
  {
   "cell_type": "code",
   "execution_count": 30,
   "metadata": {},
   "outputs": [
    {
     "data": {
      "text/html": [
       "<div>\n",
       "<style scoped>\n",
       "    .dataframe tbody tr th:only-of-type {\n",
       "        vertical-align: middle;\n",
       "    }\n",
       "\n",
       "    .dataframe tbody tr th {\n",
       "        vertical-align: top;\n",
       "    }\n",
       "\n",
       "    .dataframe thead th {\n",
       "        text-align: right;\n",
       "    }\n",
       "</style>\n",
       "<table border=\"1\" class=\"dataframe\">\n",
       "  <thead>\n",
       "    <tr style=\"text-align: right;\">\n",
       "      <th></th>\n",
       "      <th>SepalLengthCm</th>\n",
       "      <th>SepalWidthCm</th>\n",
       "      <th>PetalLengthCm</th>\n",
       "      <th>PetalWidthCm</th>\n",
       "      <th>Species</th>\n",
       "    </tr>\n",
       "    <tr>\n",
       "      <th>Id</th>\n",
       "      <th></th>\n",
       "      <th></th>\n",
       "      <th></th>\n",
       "      <th></th>\n",
       "      <th></th>\n",
       "    </tr>\n",
       "  </thead>\n",
       "  <tbody>\n",
       "    <tr>\n",
       "      <td>16</td>\n",
       "      <td>5.7</td>\n",
       "      <td>4.4</td>\n",
       "      <td>1.5</td>\n",
       "      <td>0.4</td>\n",
       "      <td>Iris-setosa</td>\n",
       "    </tr>\n",
       "    <tr>\n",
       "      <td>33</td>\n",
       "      <td>5.2</td>\n",
       "      <td>4.1</td>\n",
       "      <td>1.5</td>\n",
       "      <td>0.1</td>\n",
       "      <td>Iris-setosa</td>\n",
       "    </tr>\n",
       "    <tr>\n",
       "      <td>34</td>\n",
       "      <td>5.5</td>\n",
       "      <td>4.2</td>\n",
       "      <td>1.4</td>\n",
       "      <td>0.2</td>\n",
       "      <td>Iris-setosa</td>\n",
       "    </tr>\n",
       "    <tr>\n",
       "      <td>61</td>\n",
       "      <td>5.0</td>\n",
       "      <td>2.0</td>\n",
       "      <td>3.5</td>\n",
       "      <td>1.0</td>\n",
       "      <td>Iris-versicolor</td>\n",
       "    </tr>\n",
       "  </tbody>\n",
       "</table>\n",
       "</div>"
      ],
      "text/plain": [
       "    SepalLengthCm  SepalWidthCm  PetalLengthCm  PetalWidthCm          Species\n",
       "Id                                                                           \n",
       "16            5.7           4.4            1.5           0.4      Iris-setosa\n",
       "33            5.2           4.1            1.5           0.1      Iris-setosa\n",
       "34            5.5           4.2            1.4           0.2      Iris-setosa\n",
       "61            5.0           2.0            3.5           1.0  Iris-versicolor"
      ]
     },
     "execution_count": 30,
     "metadata": {},
     "output_type": "execute_result"
    }
   ],
   "source": [
    "data1 = data[(data['SepalWidthCm']> upper) | (data['SepalWidthCm']<lower)]\n",
    "data1"
   ]
  },
  {
   "cell_type": "code",
   "execution_count": 31,
   "metadata": {},
   "outputs": [],
   "source": [
    "indices = data.index[(data['SepalWidthCm']> upper) | (data['SepalWidthCm']<lower)]\n",
    "data.drop(index=indices, axis=0, inplace=True)"
   ]
  },
  {
   "cell_type": "code",
   "execution_count": 32,
   "metadata": {},
   "outputs": [
    {
     "data": {
      "text/plain": [
       "(143, 5)"
      ]
     },
     "execution_count": 32,
     "metadata": {},
     "output_type": "execute_result"
    }
   ],
   "source": [
    "data.shape"
   ]
  },
  {
   "cell_type": "code",
   "execution_count": 33,
   "metadata": {},
   "outputs": [
    {
     "data": {
      "text/plain": [
       "{'whiskers': [<matplotlib.lines.Line2D at 0x7fe893b99320>,\n",
       "  <matplotlib.lines.Line2D at 0x7fe893b996a0>],\n",
       " 'caps': [<matplotlib.lines.Line2D at 0x7fe893b999e8>,\n",
       "  <matplotlib.lines.Line2D at 0x7fe893b99d30>],\n",
       " 'boxes': [<matplotlib.lines.Line2D at 0x7fe893b991d0>],\n",
       " 'medians': [<matplotlib.lines.Line2D at 0x7fe893ba20b8>],\n",
       " 'fliers': [<matplotlib.lines.Line2D at 0x7fe893ba2400>],\n",
       " 'means': []}"
      ]
     },
     "execution_count": 33,
     "metadata": {},
     "output_type": "execute_result"
    },
    {
     "data": {
      "image/png": "[encoded data removed]",
      "text/plain": [
       "<Figure size 432x288 with 1 Axes>"
      ]
     },
     "metadata": {
      "needs_background": "light"
     },
     "output_type": "display_data"
    }
   ],
   "source": [
    "plt.boxplot(data['SepalWidthCm'], labels=['SepalWidthCm'] )"
   ]
  },
  {
   "cell_type": "markdown",
   "metadata": {},
   "source": [
    "4 records which were outliers have been removed and now we can see outliers have been removed"
   ]
  },
  {
   "cell_type": "code",
   "execution_count": 34,
   "metadata": {},
   "outputs": [
    {
     "data": {
      "text/plain": [
       "{'whiskers': [<matplotlib.lines.Line2D at 0x7fe893b74550>,\n",
       "  <matplotlib.lines.Line2D at 0x7fe893b748d0>],\n",
       " 'caps': [<matplotlib.lines.Line2D at 0x7fe893b74c18>,\n",
       "  <matplotlib.lines.Line2D at 0x7fe893b74f60>],\n",
       " 'boxes': [<matplotlib.lines.Line2D at 0x7fe893b74400>],\n",
       " 'medians': [<matplotlib.lines.Line2D at 0x7fe893b7b2e8>],\n",
       " 'fliers': [<matplotlib.lines.Line2D at 0x7fe893b7b630>],\n",
       " 'means': []}"
      ]
     },
     "execution_count": 34,
     "metadata": {},
     "output_type": "execute_result"
    },
    {
     "data": {
      "image/png": "[encoded data removed]",
      "text/plain": [
       "<Figure size 432x288 with 1 Axes>"
      ]
     },
     "metadata": {
      "needs_background": "light"
     },
     "output_type": "display_data"
    }
   ],
   "source": [
    "plt.boxplot(data['PetalWidthCm'], labels=['PetalWidthCm'] )"
   ]
  },
  {
   "cell_type": "markdown",
   "metadata": {},
   "source": [
    "So outliers were present only in SepalWidthCm feature "
   ]
  },
  {
   "cell_type": "code",
   "execution_count": 35,
   "metadata": {},
   "outputs": [],
   "source": [
    "scaler = StandardScaler()\n",
    "Y = data['Species']\n",
    "X = data.drop('Species', axis=1)\n",
    "\n",
    "X = scaler.fit_transform(X)"
   ]
  },
  {
   "cell_type": "code",
   "execution_count": 36,
   "metadata": {},
   "outputs": [
    {
     "data": {
      "text/plain": [
       "\"kfold = KFold(n_splits=5)\\n\\nmodels = {\\n    'RandomForest': RandomForestClassifier(),\\n    'SVC': SVC(),\\n    'DecisionTreeClassifier': DecisionTreeClassifier(),\\n    'GaussianNB': GaussianNB(),\\n    'KNeighborsClassifier':KNeighborsClassifier(),\\n    'LogisticRegression':LogisticRegression()\\n}\\n\\nfor i, j in models.items():\\n    m1 = cross_val_score(j,X, Y,  cv=kfold)\\n    print(i, ':', round(m1.mean(),2))\""
      ]
     },
     "execution_count": 36,
     "metadata": {},
     "output_type": "execute_result"
    }
   ],
   "source": [
    "'''kfold = KFold(n_splits=5)\n",
    "\n",
    "models = {\n",
    "    'RandomForest': RandomForestClassifier(),\n",
    "    'SVC': SVC(),\n",
    "    'DecisionTreeClassifier': DecisionTreeClassifier(),\n",
    "    'GaussianNB': GaussianNB(),\n",
    "    'KNeighborsClassifier':KNeighborsClassifier(),\n",
    "    'LogisticRegression':LogisticRegression()\n",
    "}\n",
    "\n",
    "for i, j in models.items():\n",
    "    m1 = cross_val_score(j,X, Y,  cv=kfold)\n",
    "    print(i, ':', round(m1.mean(),2))'''"
   ]
  },
  {
   "cell_type": "code",
   "execution_count": 37,
   "metadata": {},
   "outputs": [
    {
     "data": {
      "text/plain": [
       "\"scaler = RobustScaler()\\nY = data['Species']\\nX = data.drop('Species', axis=1)\\n\\nX = scaler.fit_transform(X)\""
      ]
     },
     "execution_count": 37,
     "metadata": {},
     "output_type": "execute_result"
    }
   ],
   "source": [
    "'''scaler = RobustScaler()\n",
    "Y = data['Species']\n",
    "X = data.drop('Species', axis=1)\n",
    "\n",
    "X = scaler.fit_transform(X)'''"
   ]
  },
  {
   "cell_type": "code",
   "execution_count": 38,
   "metadata": {},
   "outputs": [
    {
     "data": {
      "text/plain": [
       "\"kfold = KFold(n_splits=5)\\n\\nmodels = {\\n    'RandomForest': RandomForestClassifier(),\\n    'SVC': SVC(),\\n    'DecisionTreeClassifier': DecisionTreeClassifier(),\\n    'GaussianNB': GaussianNB(),\\n    'KNeighborsClassifier':KNeighborsClassifier(),\\n    'LogisticRegression':LogisticRegression()\\n}\\n\\nfor i, j in models.items():\\n    m1 = cross_val_score(j,X, Y,  cv=kfold)\\n    print(i, ':', round(m1.mean(),2))\""
      ]
     },
     "execution_count": 38,
     "metadata": {},
     "output_type": "execute_result"
    }
   ],
   "source": [
    "'''kfold = KFold(n_splits=5)\n",
    "\n",
    "models = {\n",
    "    'RandomForest': RandomForestClassifier(),\n",
    "    'SVC': SVC(),\n",
    "    'DecisionTreeClassifier': DecisionTreeClassifier(),\n",
    "    'GaussianNB': GaussianNB(),\n",
    "    'KNeighborsClassifier':KNeighborsClassifier(),\n",
    "    'LogisticRegression':LogisticRegression()\n",
    "}\n",
    "\n",
    "for i, j in models.items():\n",
    "    m1 = cross_val_score(j,X, Y,  cv=kfold)\n",
    "    print(i, ':', round(m1.mean(),2))'''"
   ]
  },
  {
   "cell_type": "code",
   "execution_count": 39,
   "metadata": {},
   "outputs": [
    {
     "data": {
      "text/plain": [
       "\"scaler = MinMaxScaler()\\nY = data['Species']\\nX = data.drop('Species', axis=1)\\n\\nX = scaler.fit_transform(X)\""
      ]
     },
     "execution_count": 39,
     "metadata": {},
     "output_type": "execute_result"
    }
   ],
   "source": [
    "'''scaler = MinMaxScaler()\n",
    "Y = data['Species']\n",
    "X = data.drop('Species', axis=1)\n",
    "\n",
    "X = scaler.fit_transform(X)'''"
   ]
  },
  {
   "cell_type": "code",
   "execution_count": 40,
   "metadata": {},
   "outputs": [
    {
     "data": {
      "text/plain": [
       "\"kfold = KFold(n_splits=5)\\n\\nmodels = {\\n    'RandomForest': RandomForestClassifier(),\\n    'SVC': SVC(),\\n    'DecisionTreeClassifier': DecisionTreeClassifier(),\\n    'GaussianNB': GaussianNB(),\\n    'KNeighborsClassifier':KNeighborsClassifier(),\\n    'LogisticRegression':LogisticRegression()\\n}\\n\\nfor i, j in models.items():\\n    m1 = cross_val_score(j,X, Y,  cv=kfold)\\n    print(i, ':', round(m1.mean(),2))\""
      ]
     },
     "execution_count": 40,
     "metadata": {},
     "output_type": "execute_result"
    }
   ],
   "source": [
    "'''kfold = KFold(n_splits=5)\n",
    "\n",
    "models = {\n",
    "    'RandomForest': RandomForestClassifier(),\n",
    "    'SVC': SVC(),\n",
    "    'DecisionTreeClassifier': DecisionTreeClassifier(),\n",
    "    'GaussianNB': GaussianNB(),\n",
    "    'KNeighborsClassifier':KNeighborsClassifier(),\n",
    "    'LogisticRegression':LogisticRegression()\n",
    "}\n",
    "\n",
    "for i, j in models.items():\n",
    "    m1 = cross_val_score(j,X, Y,  cv=kfold)\n",
    "    print(i, ':', round(m1.mean(),2))'''"
   ]
  },
  {
   "cell_type": "markdown",
   "metadata": {},
   "source": [
    "Standard scaler gave us pretty good cross validations score.\n",
    "Hence lets do hyperparameter tuning\n"
   ]
  },
  {
   "cell_type": "code",
   "execution_count": 41,
   "metadata": {},
   "outputs": [
    {
     "data": {
      "text/plain": [
       "\"params = {\\n    'n_neighbors': [5, 6, 7, 8, 9, 10],\\n    'weights': ['uniform', 'distance'],\\n    'algorithm': 'auto'\\n}\\naccuracy_score = make_scorer('accuracy_score')\""
      ]
     },
     "execution_count": 41,
     "metadata": {},
     "output_type": "execute_result"
    }
   ],
   "source": [
    "'''params = {\n",
    "    'n_neighbors': [5, 6, 7, 8, 9, 10],\n",
    "    'weights': ['uniform', 'distance'],\n",
    "    'algorithm': 'auto'\n",
    "}\n",
    "accuracy_score = make_scorer('accuracy_score')'''"
   ]
  },
  {
   "cell_type": "code",
   "execution_count": 42,
   "metadata": {},
   "outputs": [
    {
     "name": "stdout",
     "output_type": "stream",
     "text": [
      "(114, 4)\n",
      "(114,)\n"
     ]
    }
   ],
   "source": [
    "X_train, X_test, y_train, y_test = train_test_split(X, Y , test_size=0.2, random_state =42)\n",
    "print(X_train.shape)\n",
    "print(y_train.shape)\n"
   ]
  },
  {
   "cell_type": "code",
   "execution_count": 43,
   "metadata": {},
   "outputs": [
    {
     "data": {
      "text/plain": [
       "'model1 = KNeighborsClassifier(n_jobs=-1)\\n\\nmodel = GridSearchCV(model1, param_grid=params)\\nmodel.fit(X_train, y_train)\\nmodel.best_estimator_'"
      ]
     },
     "execution_count": 43,
     "metadata": {},
     "output_type": "execute_result"
    }
   ],
   "source": [
    "'''model1 = KNeighborsClassifier(n_jobs=-1)\n",
    "\n",
    "model = GridSearchCV(model1, param_grid=params)\n",
    "model.fit(X_train, y_train)\n",
    "model.best_estimator_'''"
   ]
  },
  {
   "cell_type": "code",
   "execution_count": 44,
   "metadata": {},
   "outputs": [
    {
     "name": "stdout",
     "output_type": "stream",
     "text": [
      "Accuracy of the tuned model: 0.9737\n",
      "{'criterion': 'gini', 'max_depth': None, 'max_leaf_nodes': None, 'min_samples_leaf': 1, 'min_samples_split': 10}\n"
     ]
    }
   ],
   "source": [
    "\n",
    "criteria = [\"gini\", \"entropy\"]      #criteria to be tested\n",
    "min_sample_split_range = [2,10, 20] #min sample split to be tested\n",
    "max_depth_range = [None, 2, 5, 10]  #max depth to be tested\n",
    "min_samples_leaf_range = [1, 5, 10] #min samples in the leaf to be tested\n",
    "min_leaf_nodes_range = [None, 5, 10, 20]    #min leaf nodes to be tested\n",
    "\n",
    "param_grid = {\"criterion\": criteria,\n",
    "              \"min_samples_split\": min_sample_split_range,\n",
    "              \"max_depth\": max_depth_range,\n",
    "              \"min_samples_leaf\": min_samples_leaf_range,\n",
    "              \"max_leaf_nodes\": min_leaf_nodes_range\n",
    "                }\n",
    "\n",
    "grid = GridSearchCV(estimator=DecisionTreeClassifier(), \n",
    "                    param_grid=param_grid, \n",
    "                    cv = 5, \n",
    "                    scoring='accuracy', \n",
    "                    refit=True)     #setting grid with estimator\n",
    "\n",
    "grid.fit(X_train, y_train)      #fitting data\n",
    "\n",
    "print(\"Accuracy of the tuned model: %.4f\" %grid.best_score_)\n",
    "print(grid.best_params_)"
   ]
  },
  {
   "cell_type": "code",
   "execution_count": 45,
   "metadata": {},
   "outputs": [
    {
     "name": "stdout",
     "output_type": "stream",
     "text": [
      "Accuracy of the tuned model: 0.9825\n",
      "{'criterion': 'gini', 'max_depth': 2, 'max_leaf_nodes': 20, 'min_samples_leaf': 10, 'min_samples_split': 2}\n"
     ]
    }
   ],
   "source": [
    "n_estimators = [10, 100, 1000]\n",
    "criteria = [\"gini\", \"entropy\"]\n",
    "max_depth = [None, 2, 5, 10]\n",
    "min_sample_split_range = [2,10, 20]\n",
    "min_samples_leaf = [1, 5, 10]\n",
    "param_grid : {\n",
    "    \"n_estimators \":n_estimators,\n",
    "    \"criteria\":criteria,\n",
    "    \"max_depth\":max_depth,\n",
    "    \"min_samples_split \":min_sample_split_range,\n",
    "    \"min_samples_leaf\":min_samples_leaf ,\n",
    "    \n",
    "}\n",
    "\n",
    "model =  GridSearchCV(RandomForestClassifier(), param_grid=param_grid, scoring='accuracy', cv=5, refit=True)\n",
    "\n",
    "\n",
    "model.fit(X_train, y_train)      #fitting data\n",
    "\n",
    "print(\"Accuracy of the tuned model: %.4f\" %model.best_score_)\n",
    "print(model.best_params_)"
   ]
  },
  {
   "cell_type": "code",
   "execution_count": 46,
   "metadata": {},
   "outputs": [
    {
     "name": "stdout",
     "output_type": "stream",
     "text": [
      "Accuracy of the tuned model: 0.9737\n",
      "{'C': 0.1, 'degree': 1, 'kernel': 'linear'}\n"
     ]
    }
   ],
   "source": [
    "kernel_types = [\"linear\", \"poly\", \"rbf\", \"sigmoid\"]     #types of kernels to be tested\n",
    "C_range = [0.01, 0.1, 1, 10, 100, 1000]                 #range of C to be tested\n",
    "degree_range = [1, 2, 3, 4, 5, 6]                       #degrees to be tested\n",
    "\n",
    "param_grid = {\"kernel\": kernel_types,\n",
    "              \"C\": C_range,\n",
    "              \"degree\": degree_range,\n",
    "              }         #setting grid of parameters\n",
    "\n",
    "grid = GridSearchCV(estimator = SVC(), \n",
    "                    param_grid = param_grid, \n",
    "                    cv = 5, \n",
    "                    scoring = 'accuracy', \n",
    "                    refit = True)   #setting grid with estimator\n",
    "\n",
    "\n",
    "grid.fit(X_train, y_train)       #fitting data\n",
    "\n",
    "print(\"Accuracy of the tuned model: %.4f\" %grid.best_score_)\n",
    "print(grid.best_params_)"
   ]
  },
  {
   "cell_type": "markdown",
   "metadata": {},
   "source": [
    "From the above it is evident that **\"RandomForestClassifier\"** is the best classifier to be used for our model building to be used for test data set"
   ]
  },
  {
   "cell_type": "code",
   "execution_count": 47,
   "metadata": {},
   "outputs": [
    {
     "name": "stdout",
     "output_type": "stream",
     "text": [
      "0.896551724137931\n"
     ]
    }
   ],
   "source": [
    "prediction = model.predict(X_test)\n",
    "print(accuracy_score(prediction, y_test))"
   ]
  }
 ],
 "metadata": {
  "kernelspec": {
   "display_name": "Python 3",
   "language": "python",
   "name": "python3"
  },
  "language_info": {
   "codemirror_mode": {
    "name": "ipython",
    "version": 3
   },
   "file_extension": ".py",
   "mimetype": "text/x-python",
   "name": "python",
   "nbconvert_exporter": "python",
   "pygments_lexer": "ipython3",
   "version": "3.6.6"
  }
 },
 "nbformat": 4,
 "nbformat_minor": 1
}
