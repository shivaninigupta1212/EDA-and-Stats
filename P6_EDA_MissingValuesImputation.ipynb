{
  "nbformat": 4,
  "nbformat_minor": 0,
  "metadata": {
    "colab": {
      "provenance": []
    },
    "kernelspec": {
      "name": "python3",
      "display_name": "Python 3"
    },
    "language_info": {
      "name": "python"
    }
  },
  "cells": [
    {
      "cell_type": "code",
      "execution_count": null,
      "metadata": {
        "id": "1lz-4SKurDcM"
      },
      "outputs": [],
      "source": [
        "import pandas as pd\n",
        "import numpy as np"
      ]
    },
    {
      "cell_type": "code",
      "source": [
        "data = {\n",
        "    'A': [1, 2, np.nan, 4, 5],\n",
        "    'B': [np.nan, 12, 13, np.nan, 15],\n",
        "    'C': ['apple', 'banana', 'cherry', 'date', 'elderberry']\n",
        "}\n",
        "\n",
        "df = pd.DataFrame(data)"
      ],
      "metadata": {
        "id": "QY7m08rorHrA"
      },
      "execution_count": null,
      "outputs": []
    },
    {
      "cell_type": "code",
      "source": [
        "# Display the original DataFrame with missing values\n",
        "print(\"Original DataFrame:\")\n",
        "print(df)"
      ],
      "metadata": {
        "colab": {
          "base_uri": "https://localhost:8080/"
        },
        "id": "gGbaPbsJrHwR",
        "outputId": "19e04781-4e02-447a-d710-9e1111c45727"
      },
      "execution_count": null,
      "outputs": [
        {
          "output_type": "stream",
          "name": "stdout",
          "text": [
            "Original DataFrame:\n",
            "     A     B           C\n",
            "0  1.0   NaN       apple\n",
            "1  2.0  12.0      banana\n",
            "2  NaN  13.0      cherry\n",
            "3  4.0   NaN        date\n",
            "4  5.0  15.0  elderberry\n"
          ]
        }
      ]
    },
    {
      "cell_type": "code",
      "source": [
        "# 1. Removing Rows with Missing Values: (using dropna) method\n",
        "# Remove rows with any missing values\n",
        "df_cleaned = df.dropna()\n",
        "\n",
        "# Display the DataFrame after removing rows with missing values\n",
        "print(\"\\nDataFrame after removing rows with missing values:\")\n",
        "print(df_cleaned)"
      ],
      "metadata": {
        "colab": {
          "base_uri": "https://localhost:8080/"
        },
        "id": "nadU5CNqrH1z",
        "outputId": "eb2ea05f-59da-4c1f-8049-9942fd7cdca9"
      },
      "execution_count": null,
      "outputs": [
        {
          "output_type": "stream",
          "name": "stdout",
          "text": [
            "\n",
            "DataFrame after removing rows with missing values:\n",
            "     A     B           C\n",
            "1  2.0  12.0      banana\n",
            "4  5.0  15.0  elderberry\n"
          ]
        }
      ]
    },
    {
      "cell_type": "code",
      "source": [
        "# 2. Removing Columns with Missing Values: (using drop) method\n",
        "# Remove columns with any missing values\n",
        "df_cleaned = df.dropna(axis=1)\n",
        "\n",
        "# Display the DataFrame after removing columns with missing values\n",
        "print(\"\\nDataFrame after removing columns with missing values:\")\n",
        "print(df_cleaned)"
      ],
      "metadata": {
        "colab": {
          "base_uri": "https://localhost:8080/"
        },
        "id": "8NJ3L_SYrH69",
        "outputId": "6bd78beb-5e52-49c1-d182-0b5381341db6"
      },
      "execution_count": null,
      "outputs": [
        {
          "output_type": "stream",
          "name": "stdout",
          "text": [
            "\n",
            "DataFrame after removing columns with missing values:\n",
            "            C\n",
            "0       apple\n",
            "1      banana\n",
            "2      cherry\n",
            "3        date\n",
            "4  elderberry\n"
          ]
        }
      ]
    },
    {
      "cell_type": "code",
      "source": [
        "# 3. Filling Missing Values with a Specific Value: (using fillna) method\n",
        "# Fill missing values with 0\n",
        "df_filled = df.fillna(0)\n",
        "\n",
        "# Display the DataFrame after filling missing values with 0\n",
        "print(\"\\nDataFrame after filling missing values with 0:\")\n",
        "print(df_filled)"
      ],
      "metadata": {
        "colab": {
          "base_uri": "https://localhost:8080/"
        },
        "id": "Eoqsb2IMrH_8",
        "outputId": "17c84781-51ef-4eab-ce3b-684bf901aac5"
      },
      "execution_count": null,
      "outputs": [
        {
          "output_type": "stream",
          "name": "stdout",
          "text": [
            "\n",
            "DataFrame after filling missing values with 0:\n",
            "     A     B           C\n",
            "0  1.0   0.0       apple\n",
            "1  2.0  12.0      banana\n",
            "2  0.0  13.0      cherry\n",
            "3  4.0   0.0        date\n",
            "4  5.0  15.0  elderberry\n"
          ]
        }
      ]
    },
    {
      "cell_type": "code",
      "source": [
        "# 4. Filling Missing Values with Mean, Median, or Mode: (using fillna) method\n",
        "# Fill missing values with the mean of the column 'A'\n",
        "mean_A = df['A'].mean()\n",
        "df_filled_mean = df.fillna({'A': mean_A})\n",
        "\n",
        "# Display the DataFrame after filling missing values with the mean\n",
        "print(\"\\nThe calculated mean value is:\",mean_A)\n",
        "print(\"\\nDataFrame after filling missing values with the mean:\")\n",
        "print(df_filled_mean)"
      ],
      "metadata": {
        "colab": {
          "base_uri": "https://localhost:8080/"
        },
        "id": "GK3hloAwrIEV",
        "outputId": "baac60e5-cfb3-4b80-c980-a3f31b2d9423"
      },
      "execution_count": null,
      "outputs": [
        {
          "output_type": "stream",
          "name": "stdout",
          "text": [
            "\n",
            "The calculated mean value is: 3.0\n",
            "\n",
            "DataFrame after filling missing values with the mean:\n",
            "     A     B           C\n",
            "0  1.0   NaN       apple\n",
            "1  2.0  12.0      banana\n",
            "2  3.0  13.0      cherry\n",
            "3  4.0   NaN        date\n",
            "4  5.0  15.0  elderberry\n"
          ]
        }
      ]
    },
    {
      "cell_type": "code",
      "source": [
        "# 5. Interpolation: fill missing values based on the values of neighboring data points using the interpolate method\n",
        "# Interpolate missing values in columns 'A' and 'B'\n",
        "df_interpolated = df.interpolate()\n",
        "\n",
        "# Display the DataFrame after interpolation\n",
        "print(\"\\nDataFrame after interpolation:\")\n",
        "print(df_interpolated)"
      ],
      "metadata": {
        "colab": {
          "base_uri": "https://localhost:8080/"
        },
        "id": "pNDCqUTNrIJ5",
        "outputId": "62d56374-0bf1-44e0-b711-ed6ae8871e93"
      },
      "execution_count": null,
      "outputs": [
        {
          "output_type": "stream",
          "name": "stdout",
          "text": [
            "\n",
            "DataFrame after interpolation:\n",
            "     A     B           C\n",
            "0  1.0   NaN       apple\n",
            "1  2.0  12.0      banana\n",
            "2  3.0  13.0      cherry\n",
            "3  4.0  14.0        date\n",
            "4  5.0  15.0  elderberry\n"
          ]
        }
      ]
    }
  ]
}