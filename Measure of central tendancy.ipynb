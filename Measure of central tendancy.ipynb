{
 "cells": [
  {
   "cell_type": "code",
   "execution_count": null,
   "metadata": {},
   "outputs": [],
   "source": []
  },
  {
   "cell_type": "code",
   "execution_count": null,
   "metadata": {},
   "outputs": [],
   "source": [
    "\n"
   ]
  },
  {
   "cell_type": "code",
   "execution_count": 9,
   "metadata": {},
   "outputs": [
    {
     "name": "stdout",
     "output_type": "stream",
     "text": [
      "Mean: 3.4444444444444446\n",
      "Median: 3\n",
      "Mode: No unique mode\n"
     ]
    }
   ],
   "source": [
    "from statistics import mean, median, mode, StatisticsError\n",
    "\n",
    "# Define your dataset\n",
    "data = [1, 2, 2, 3, 3, 4, 5, 5, 6]\n",
    "\n",
    "# Calculate the mean (average)\n",
    "mean_value = mean(data)\n",
    "\n",
    "# Calculate the median (middle value)\n",
    "median_value = median(data)\n",
    "\n",
    "try:\n",
    "    # Calculate the mode (most frequent value)\n",
    "    mode_value = mode(data)\n",
    "except StatisticsError:\n",
    "    # Handle the case where there is no unique mode\n",
    "    mode_value = \"No unique mode\"\n",
    "\n",
    "# Print the results\n",
    "print(f\"Mean: {mean_value}\")\n",
    "print(f\"Median: {median_value}\")\n",
    "print(f\"Mode: {mode_value}\")\n"
   ]
  },
  {
   "cell_type": "code",
   "execution_count": 2,
   "metadata": {},
   "outputs": [
    {
     "name": "stdout",
     "output_type": "stream",
     "text": [
      "Mean: 3.4444444444444446\n"
     ]
    }
   ],
   "source": [
    "from statistics import mean\n",
    "\n",
    "# Define your dataset\n",
    "data = [1, 2, 2, 3, 3, 4, 5, 5, 6]\n",
    "\n",
    "# Calculate the mean (average)\n",
    "mean_value = mean(data)\n",
    "\n",
    "# Print the mean\n",
    "print(f\"Mean: {mean_value}\")\n"
   ]
  },
  {
   "cell_type": "code",
   "execution_count": 3,
   "metadata": {},
   "outputs": [
    {
     "name": "stdout",
     "output_type": "stream",
     "text": [
      "Median: 3\n"
     ]
    }
   ],
   "source": [
    "from statistics import median\n",
    "\n",
    "# Define your dataset\n",
    "data = [1, 2, 2, 3, 3, 4, 5, 5, 6]\n",
    "\n",
    "# Calculate the median (middle value)\n",
    "median_value = median(data)\n",
    "\n",
    "# Print the median\n",
    "print(f\"Median: {median_value}\")\n"
   ]
  },
  {
   "cell_type": "code",
   "execution_count": 4,
   "metadata": {},
   "outputs": [
    {
     "name": "stdout",
     "output_type": "stream",
     "text": [
      "No unique mode\n"
     ]
    }
   ],
   "source": [
    "from statistics import mode, StatisticsError\n",
    "\n",
    "# Define your dataset\n",
    "data = [1, 2, 2, 3, 3, 4, 5, 5, 6]\n",
    "\n",
    "try:\n",
    "    # Calculate the mode (most frequent value)\n",
    "    mode_value = mode(data)\n",
    "    print(f\"Mode: {mode_value}\")\n",
    "except StatisticsError:\n",
    "    # Handle the case where there is no unique mode\n",
    "    print(\"No unique mode\")\n"
   ]
  },
  {
   "cell_type": "code",
   "execution_count": null,
   "metadata": {},
   "outputs": [],
   "source": []
  },
  {
   "cell_type": "code",
   "execution_count": null,
   "metadata": {},
   "outputs": [],
   "source": []
  },
  {
   "cell_type": "code",
   "execution_count": 5,
   "metadata": {},
   "outputs": [
    {
     "name": "stdout",
     "output_type": "stream",
     "text": [
      "Mean: 3.4444444444444446\n"
     ]
    }
   ],
   "source": [
    "# Define your dataset\n",
    "data = [1, 2, 2, 3, 3, 4, 5, 5, 6]\n",
    "\n",
    "# Calculate the mean (average) using the formula\n",
    "mean_value = sum(data) / len(data)\n",
    "\n",
    "# Print the mean\n",
    "print(f\"Mean: {mean_value}\")\n"
   ]
  },
  {
   "cell_type": "code",
   "execution_count": null,
   "metadata": {},
   "outputs": [],
   "source": []
  },
  {
   "cell_type": "code",
   "execution_count": 6,
   "metadata": {},
   "outputs": [
    {
     "name": "stdout",
     "output_type": "stream",
     "text": [
      "Median: 3\n"
     ]
    }
   ],
   "source": [
    "# Define your dataset\n",
    "data = [1, 2, 2, 3, 3, 4, 5, 5, 6]\n",
    "\n",
    "# Sort the dataset in ascending order\n",
    "data.sort()\n",
    "\n",
    "# Calculate the median using the formula\n",
    "n = len(data)\n",
    "if n % 2 == 0:\n",
    "    median_value = (data[n // 2 - 1] + data[n // 2]) / 2\n",
    "else:\n",
    "    median_value = data[n // 2]\n",
    "\n",
    "# Print the median\n",
    "print(f\"Median: {median_value}\")\n"
   ]
  },
  {
   "cell_type": "code",
   "execution_count": null,
   "metadata": {},
   "outputs": [],
   "source": []
  },
  {
   "cell_type": "code",
   "execution_count": 7,
   "metadata": {},
   "outputs": [
    {
     "name": "stdout",
     "output_type": "stream",
     "text": [
      "Mode: No unique mode\n"
     ]
    }
   ],
   "source": [
    "# Define your dataset\n",
    "data = [1, 2, 2, 3, 3, 4, 5, 5, 6]\n",
    "\n",
    "# Calculate the mode using the formula\n",
    "from collections import Counter\n",
    "\n",
    "counter = Counter(data)\n",
    "max_count = max(counter.values())\n",
    "mode_value = [key for key, value in counter.items() if value == max_count]\n",
    "\n",
    "# Check if there's a unique mode or multiple modes\n",
    "if len(mode_value) == 1:\n",
    "    mode_value = mode_value[0]\n",
    "else:\n",
    "    mode_value = \"No unique mode\"\n",
    "\n",
    "# Print the mode\n",
    "print(f\"Mode: {mode_value}\")\n"
   ]
  },
  {
   "cell_type": "code",
   "execution_count": null,
   "metadata": {},
   "outputs": [],
   "source": []
  },
  {
   "cell_type": "code",
   "execution_count": null,
   "metadata": {},
   "outputs": [],
   "source": []
  },
  {
   "cell_type": "code",
   "execution_count": null,
   "metadata": {},
   "outputs": [],
   "source": []
  },
  {
   "cell_type": "code",
   "execution_count": null,
   "metadata": {},
   "outputs": [],
   "source": []
  },
  {
   "cell_type": "code",
   "execution_count": null,
   "metadata": {},
   "outputs": [],
   "source": []
  },
  {
   "cell_type": "code",
   "execution_count": null,
   "metadata": {},
   "outputs": [],
   "source": []
  },
  {
   "cell_type": "code",
   "execution_count": null,
   "metadata": {},
   "outputs": [],
   "source": []
  },
  {
   "cell_type": "code",
   "execution_count": null,
   "metadata": {},
   "outputs": [],
   "source": []
  },
  {
   "cell_type": "code",
   "execution_count": null,
   "metadata": {},
   "outputs": [],
   "source": []
  },
  {
   "cell_type": "code",
   "execution_count": null,
   "metadata": {},
   "outputs": [],
   "source": []
  }
 ],
 "metadata": {
  "kernelspec": {
   "display_name": "Python 3",
   "language": "python",
   "name": "python3"
  },
  "language_info": {
   "codemirror_mode": {
    "name": "ipython",
    "version": 3
   },
   "file_extension": ".py",
   "mimetype": "text/x-python",
   "name": "python",
   "nbconvert_exporter": "python",
   "pygments_lexer": "ipython3",
   "version": "3.6.5"
  }
 },
 "nbformat": 4,
 "nbformat_minor": 2
}
