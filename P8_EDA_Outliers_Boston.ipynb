{
  "cells": [
    {
      "cell_type": "code",
      "execution_count": null,
      "id": "2e55c992",
      "metadata": {
        "id": "2e55c992",
        "outputId": "ac8fe770-b858-46eb-86a8-15808cd147ee"
      },
      "outputs": [
        {
          "name": "stderr",
          "output_type": "stream",
          "text": [
            "C:\\Users\\hp\\anaconda3\\lib\\site-packages\\sklearn\\utils\\deprecation.py:87: FutureWarning: Function load_boston is deprecated; `load_boston` is deprecated in 1.0 and will be removed in 1.2.\n",
            "\n",
            "    The Boston housing prices dataset has an ethical problem. You can refer to\n",
            "    the documentation of this function for further details.\n",
            "\n",
            "    The scikit-learn maintainers therefore strongly discourage the use of this\n",
            "    dataset unless the purpose of the code is to study and educate about\n",
            "    ethical issues in data science and machine learning.\n",
            "\n",
            "    In this special case, you can fetch the dataset from the original\n",
            "    source::\n",
            "\n",
            "        import pandas as pd\n",
            "        import numpy as np\n",
            "\n",
            "\n",
            "        data_url = \"http://lib.stat.cmu.edu/datasets/boston\"\n",
            "        raw_df = pd.read_csv(data_url, sep=\"\\s+\", skiprows=22, header=None)\n",
            "        data = np.hstack([raw_df.values[::2, :], raw_df.values[1::2, :2]])\n",
            "        target = raw_df.values[1::2, 2]\n",
            "\n",
            "    Alternative datasets include the California housing dataset (i.e.\n",
            "    :func:`~sklearn.datasets.fetch_california_housing`) and the Ames housing\n",
            "    dataset. You can load the datasets as follows::\n",
            "\n",
            "        from sklearn.datasets import fetch_california_housing\n",
            "        housing = fetch_california_housing()\n",
            "\n",
            "    for the California housing dataset and::\n",
            "\n",
            "        from sklearn.datasets import fetch_openml\n",
            "        housing = fetch_openml(name=\"house_prices\", as_frame=True)\n",
            "\n",
            "    for the Ames housing dataset.\n",
            "    \n",
            "  warnings.warn(msg, category=FutureWarning)\n"
          ]
        },
        {
          "data": {
            "text/html": [
              "<div>\n",
              "<style scoped>\n",
              "    .dataframe tbody tr th:only-of-type {\n",
              "        vertical-align: middle;\n",
              "    }\n",
              "\n",
              "    .dataframe tbody tr th {\n",
              "        vertical-align: top;\n",
              "    }\n",
              "\n",
              "    .dataframe thead th {\n",
              "        text-align: right;\n",
              "    }\n",
              "</style>\n",
              "<table border=\"1\" class=\"dataframe\">\n",
              "  <thead>\n",
              "    <tr style=\"text-align: right;\">\n",
              "      <th></th>\n",
              "      <th>CRIM</th>\n",
              "      <th>ZN</th>\n",
              "      <th>INDUS</th>\n",
              "      <th>CHAS</th>\n",
              "      <th>NOX</th>\n",
              "      <th>RM</th>\n",
              "      <th>AGE</th>\n",
              "      <th>DIS</th>\n",
              "      <th>RAD</th>\n",
              "      <th>TAX</th>\n",
              "      <th>PTRATIO</th>\n",
              "      <th>B</th>\n",
              "      <th>LSTAT</th>\n",
              "    </tr>\n",
              "  </thead>\n",
              "  <tbody>\n",
              "    <tr>\n",
              "      <th>0</th>\n",
              "      <td>0.00632</td>\n",
              "      <td>18.0</td>\n",
              "      <td>2.31</td>\n",
              "      <td>0.0</td>\n",
              "      <td>0.538</td>\n",
              "      <td>6.575</td>\n",
              "      <td>65.2</td>\n",
              "      <td>4.0900</td>\n",
              "      <td>1.0</td>\n",
              "      <td>296.0</td>\n",
              "      <td>15.3</td>\n",
              "      <td>396.90</td>\n",
              "      <td>4.98</td>\n",
              "    </tr>\n",
              "    <tr>\n",
              "      <th>1</th>\n",
              "      <td>0.02731</td>\n",
              "      <td>0.0</td>\n",
              "      <td>7.07</td>\n",
              "      <td>0.0</td>\n",
              "      <td>0.469</td>\n",
              "      <td>6.421</td>\n",
              "      <td>78.9</td>\n",
              "      <td>4.9671</td>\n",
              "      <td>2.0</td>\n",
              "      <td>242.0</td>\n",
              "      <td>17.8</td>\n",
              "      <td>396.90</td>\n",
              "      <td>9.14</td>\n",
              "    </tr>\n",
              "    <tr>\n",
              "      <th>2</th>\n",
              "      <td>0.02729</td>\n",
              "      <td>0.0</td>\n",
              "      <td>7.07</td>\n",
              "      <td>0.0</td>\n",
              "      <td>0.469</td>\n",
              "      <td>7.185</td>\n",
              "      <td>61.1</td>\n",
              "      <td>4.9671</td>\n",
              "      <td>2.0</td>\n",
              "      <td>242.0</td>\n",
              "      <td>17.8</td>\n",
              "      <td>392.83</td>\n",
              "      <td>4.03</td>\n",
              "    </tr>\n",
              "    <tr>\n",
              "      <th>3</th>\n",
              "      <td>0.03237</td>\n",
              "      <td>0.0</td>\n",
              "      <td>2.18</td>\n",
              "      <td>0.0</td>\n",
              "      <td>0.458</td>\n",
              "      <td>6.998</td>\n",
              "      <td>45.8</td>\n",
              "      <td>6.0622</td>\n",
              "      <td>3.0</td>\n",
              "      <td>222.0</td>\n",
              "      <td>18.7</td>\n",
              "      <td>394.63</td>\n",
              "      <td>2.94</td>\n",
              "    </tr>\n",
              "    <tr>\n",
              "      <th>4</th>\n",
              "      <td>0.06905</td>\n",
              "      <td>0.0</td>\n",
              "      <td>2.18</td>\n",
              "      <td>0.0</td>\n",
              "      <td>0.458</td>\n",
              "      <td>7.147</td>\n",
              "      <td>54.2</td>\n",
              "      <td>6.0622</td>\n",
              "      <td>3.0</td>\n",
              "      <td>222.0</td>\n",
              "      <td>18.7</td>\n",
              "      <td>396.90</td>\n",
              "      <td>5.33</td>\n",
              "    </tr>\n",
              "  </tbody>\n",
              "</table>\n",
              "</div>"
            ],
            "text/plain": [
              "      CRIM    ZN  INDUS  CHAS    NOX     RM   AGE     DIS  RAD    TAX  \\\n",
              "0  0.00632  18.0   2.31   0.0  0.538  6.575  65.2  4.0900  1.0  296.0   \n",
              "1  0.02731   0.0   7.07   0.0  0.469  6.421  78.9  4.9671  2.0  242.0   \n",
              "2  0.02729   0.0   7.07   0.0  0.469  7.185  61.1  4.9671  2.0  242.0   \n",
              "3  0.03237   0.0   2.18   0.0  0.458  6.998  45.8  6.0622  3.0  222.0   \n",
              "4  0.06905   0.0   2.18   0.0  0.458  7.147  54.2  6.0622  3.0  222.0   \n",
              "\n",
              "   PTRATIO       B  LSTAT  \n",
              "0     15.3  396.90   4.98  \n",
              "1     17.8  396.90   9.14  \n",
              "2     17.8  392.83   4.03  \n",
              "3     18.7  394.63   2.94  \n",
              "4     18.7  396.90   5.33  "
            ]
          },
          "execution_count": 1,
          "metadata": {},
          "output_type": "execute_result"
        }
      ],
      "source": [
        "# Importing\n",
        "import sklearn\n",
        "from sklearn.datasets import load_boston\n",
        "import pandas as pd\n",
        "import matplotlib.pyplot as plt\n",
        "\n",
        "# Load the dataset\n",
        "bos_hou = load_boston()\n",
        "\n",
        "# Create the dataframe\n",
        "column_name = bos_hou.feature_names\n",
        "df_boston = pd.DataFrame(bos_hou.data)\n",
        "df_boston.columns = column_name\n",
        "df_boston.head()"
      ]
    },
    {
      "cell_type": "code",
      "execution_count": null,
      "id": "7c243d8a",
      "metadata": {
        "id": "7c243d8a",
        "outputId": "1eb1ab72-d398-450a-8dcd-a91660b99cd2"
      },
      "outputs": [
        {
          "name": "stderr",
          "output_type": "stream",
          "text": [
            "C:\\Users\\hp\\anaconda3\\lib\\site-packages\\seaborn\\_decorators.py:36: FutureWarning: Pass the following variable as a keyword arg: x. From version 0.12, the only valid positional argument will be `data`, and passing other arguments without an explicit keyword will result in an error or misinterpretation.\n",
            "  warnings.warn(\n"
          ]
        },
        {
          "data": {
            "text/plain": [
              "<AxesSubplot:xlabel='DIS'>"
            ]
          },
          "execution_count": 2,
          "metadata": {},
          "output_type": "execute_result"
        },
        {
          "data": {
            "image/png": "[encoded data removed]",
            "text/plain": [
              "<Figure size 432x288 with 1 Axes>"
            ]
          },
          "metadata": {
            "needs_background": "light"
          },
          "output_type": "display_data"
        }
      ],
      "source": [
        "# Box Plot\n",
        "import seaborn as sns\n",
        "sns.boxplot(df_boston['DIS'])"
      ]
    },
    {
      "cell_type": "code",
      "execution_count": null,
      "id": "41f21660",
      "metadata": {
        "id": "41f21660",
        "outputId": "8244f526-3d48-4130-8e1e-cd022ea85c32"
      },
      "outputs": [
        {
          "name": "stdout",
          "output_type": "stream",
          "text": [
            "<class 'pandas.core.frame.DataFrame'>\n",
            "RangeIndex: 506 entries, 0 to 505\n",
            "Data columns (total 13 columns):\n",
            " #   Column   Non-Null Count  Dtype  \n",
            "---  ------   --------------  -----  \n",
            " 0   CRIM     506 non-null    float64\n",
            " 1   ZN       506 non-null    float64\n",
            " 2   INDUS    506 non-null    float64\n",
            " 3   CHAS     506 non-null    float64\n",
            " 4   NOX      506 non-null    float64\n",
            " 5   RM       506 non-null    float64\n",
            " 6   AGE      506 non-null    float64\n",
            " 7   DIS      506 non-null    float64\n",
            " 8   RAD      506 non-null    float64\n",
            " 9   TAX      506 non-null    float64\n",
            " 10  PTRATIO  506 non-null    float64\n",
            " 11  B        506 non-null    float64\n",
            " 12  LSTAT    506 non-null    float64\n",
            "dtypes: float64(13)\n",
            "memory usage: 51.5 KB\n"
          ]
        }
      ],
      "source": [
        "df_boston.info()"
      ]
    },
    {
      "cell_type": "code",
      "execution_count": null,
      "id": "9b0cc530",
      "metadata": {
        "id": "9b0cc530",
        "outputId": "1d1e3d6b-02b9-49c1-cbd3-c972f541ae00"
      },
      "outputs": [
        {
          "name": "stdout",
          "output_type": "stream",
          "text": [
            "(array([351, 352, 353, 354, 355], dtype=int64),)\n"
          ]
        }
      ],
      "source": [
        "import numpy as np\n",
        "# Position of the Outlier\n",
        "print(np.where(df_boston['DIS']>10))"
      ]
    },
    {
      "cell_type": "code",
      "execution_count": null,
      "id": "83093c92",
      "metadata": {
        "id": "83093c92",
        "outputId": "7cfaa439-f55f-4e8b-a0e1-980ff993d925"
      },
      "outputs": [
        {
          "data": {
            "image/png": "[encoded data removed]",
            "text/plain": [
              "<Figure size 1296x720 with 1 Axes>"
            ]
          },
          "metadata": {
            "needs_background": "light"
          },
          "output_type": "display_data"
        }
      ],
      "source": [
        "# Scatter plot\n",
        "fig, ax = plt.subplots(figsize = (18,10))\n",
        "ax.scatter(df_boston['INDUS'], df_boston['TAX'])\n",
        "\n",
        "# x-axis label\n",
        "ax.set_xlabel('(Proportion non-retail business acres)/(town)')\n",
        "\n",
        "# y-axis label\n",
        "ax.set_ylabel('(Full-value property-tax rate)/( $10,000)')\n",
        "plt.show()"
      ]
    },
    {
      "cell_type": "code",
      "execution_count": null,
      "id": "0a622fb9",
      "metadata": {
        "id": "0a622fb9",
        "outputId": "f39d568d-f413-4cdb-f88a-70c5398d6b3c"
      },
      "outputs": [
        {
          "name": "stdout",
          "output_type": "stream",
          "text": [
            "(array([488, 489, 490, 491, 492], dtype=int64),)\n"
          ]
        }
      ],
      "source": [
        "# Position of the Outlier\n",
        "print(np.where((df_boston['INDUS']>20) & (df_boston['TAX']>600)))"
      ]
    },
    {
      "cell_type": "code",
      "execution_count": null,
      "id": "8239d4a1",
      "metadata": {
        "id": "8239d4a1",
        "outputId": "d9c1325b-4ce3-4c6c-a3fe-f4dfcdb52a9e"
      },
      "outputs": [
        {
          "name": "stdout",
          "output_type": "stream",
          "text": [
            "0      0.140214\n",
            "1      0.557160\n",
            "2      0.557160\n",
            "3      1.077737\n",
            "4      1.077737\n",
            "         ...   \n",
            "501    0.625796\n",
            "502    0.716639\n",
            "503    0.773684\n",
            "504    0.668437\n",
            "505    0.613246\n",
            "Name: DIS, Length: 506, dtype: float64\n"
          ]
        }
      ],
      "source": [
        "# Z score\n",
        "from scipy import stats\n",
        "import numpy as np\n",
        "\n",
        "z = np.abs(stats.zscore(df_boston['DIS']))\n",
        "print(z)"
      ]
    },
    {
      "cell_type": "code",
      "execution_count": null,
      "id": "0c3fbb9c",
      "metadata": {
        "id": "0c3fbb9c",
        "outputId": "bdf97c52-e4fb-46a1-bb78-cbc6301c5f5a"
      },
      "outputs": [
        {
          "name": "stdout",
          "output_type": "stream",
          "text": [
            "(array([351, 352, 353, 354, 355], dtype=int64),)\n"
          ]
        }
      ],
      "source": [
        "threshold = 3\n",
        "\n",
        "# Position of the outlier\n",
        "print(np.where(z > 3))"
      ]
    },
    {
      "cell_type": "code",
      "execution_count": null,
      "id": "6915afa7",
      "metadata": {
        "id": "6915afa7",
        "outputId": "c7bbe8bc-db3f-4442-d140-dd64e3cf282e"
      },
      "outputs": [
        {
          "name": "stdout",
          "output_type": "stream",
          "text": [
            "Q1 =  2.1003499999999997\n",
            "Q3 =  5.16495\n",
            "IQR =  3.0646000000000004\n"
          ]
        }
      ],
      "source": [
        "# IQR\n",
        "# Interpolation - {linear, midpoint, lower, higher, nearest}\n",
        "Q1 = np.percentile(df_boston['DIS'], 25,\n",
        "                   interpolation = 'midpoint')\n",
        "\n",
        "Q3 = np.percentile(df_boston['DIS'], 75,\n",
        "                   interpolation = 'midpoint')\n",
        "IQR = Q3 - Q1\n",
        "print(\"Q1 = \",Q1)\n",
        "print(\"Q3 = \",Q3)\n",
        "print(\"IQR = \",IQR)"
      ]
    },
    {
      "cell_type": "code",
      "execution_count": null,
      "id": "b40d9a3b",
      "metadata": {
        "id": "b40d9a3b",
        "outputId": "238449a6-2084-4d8a-8610-6f9a5153b435"
      },
      "outputs": [
        {
          "name": "stdout",
          "output_type": "stream",
          "text": [
            "Upper bound: 0      False\n",
            "1      False\n",
            "2      False\n",
            "3      False\n",
            "4      False\n",
            "       ...  \n",
            "501    False\n",
            "502    False\n",
            "503    False\n",
            "504    False\n",
            "505    False\n",
            "Name: DIS, Length: 506, dtype: bool\n",
            "(array([351, 352, 353, 354, 355], dtype=int64),)\n",
            "Lower bound: 0      False\n",
            "1      False\n",
            "2      False\n",
            "3      False\n",
            "4      False\n",
            "       ...  \n",
            "501    False\n",
            "502    False\n",
            "503    False\n",
            "504    False\n",
            "505    False\n",
            "Name: DIS, Length: 506, dtype: bool\n",
            "(array([], dtype=int64),)\n"
          ]
        }
      ],
      "source": [
        "# Above Upper bound\n",
        "# DECISION RANGE\n",
        "upper = df_boston['DIS'] >= (Q3+1.5*IQR)\n",
        "\n",
        "print(\"Upper bound:\",upper)\n",
        "print(np.where(upper))\n",
        "\n",
        "# Below Lower bound\n",
        "lower = df_boston['DIS'] <= (Q1-1.5*IQR)\n",
        "print(\"Lower bound:\", lower)\n",
        "print(np.where(lower))"
      ]
    },
    {
      "cell_type": "code",
      "execution_count": null,
      "id": "d8a01c68",
      "metadata": {
        "id": "d8a01c68",
        "outputId": "2a460171-6396-499c-d96c-8172548e4d03"
      },
      "outputs": [
        {
          "name": "stdout",
          "output_type": "stream",
          "text": [
            "Old Shape:  (506, 13)\n",
            "New Shape:  (501, 13)\n"
          ]
        },
        {
          "name": "stderr",
          "output_type": "stream",
          "text": [
            "C:\\Users\\Surya S\\anaconda3\\lib\\site-packages\\sklearn\\utils\\deprecation.py:87: FutureWarning: Function load_boston is deprecated; `load_boston` is deprecated in 1.0 and will be removed in 1.2.\n",
            "\n",
            "    The Boston housing prices dataset has an ethical problem. You can refer to\n",
            "    the documentation of this function for further details.\n",
            "\n",
            "    The scikit-learn maintainers therefore strongly discourage the use of this\n",
            "    dataset unless the purpose of the code is to study and educate about\n",
            "    ethical issues in data science and machine learning.\n",
            "\n",
            "    In this special case, you can fetch the dataset from the original\n",
            "    source::\n",
            "\n",
            "        import pandas as pd\n",
            "        import numpy as np\n",
            "\n",
            "\n",
            "        data_url = \"http://lib.stat.cmu.edu/datasets/boston\"\n",
            "        raw_df = pd.read_csv(data_url, sep=\"\\s+\", skiprows=22, header=None)\n",
            "        data = np.hstack([raw_df.values[::2, :], raw_df.values[1::2, :2]])\n",
            "        target = raw_df.values[1::2, 2]\n",
            "\n",
            "    Alternative datasets include the California housing dataset (i.e.\n",
            "    :func:`~sklearn.datasets.fetch_california_housing`) and the Ames housing\n",
            "    dataset. You can load the datasets as follows::\n",
            "\n",
            "        from sklearn.datasets import fetch_california_housing\n",
            "        housing = fetch_california_housing()\n",
            "\n",
            "    for the California housing dataset and::\n",
            "\n",
            "        from sklearn.datasets import fetch_openml\n",
            "        housing = fetch_openml(name=\"house_prices\", as_frame=True)\n",
            "\n",
            "    for the Ames housing dataset.\n",
            "    \n",
            "  warnings.warn(msg, category=FutureWarning)\n"
          ]
        }
      ],
      "source": [
        "# Importing\n",
        "import sklearn\n",
        "from sklearn.datasets import load_boston\n",
        "import pandas as pd\n",
        "\n",
        "# Load the dataset\n",
        "bos_hou = load_boston()\n",
        "\n",
        "# Create the dataframe\n",
        "column_name = bos_hou.feature_names\n",
        "df_boston = pd.DataFrame(bos_hou.data)\n",
        "df_boston.columns = column_name\n",
        "df_boston.head()\n",
        "\n",
        "''' Detection '''\n",
        "# IQR\n",
        "Q1 = np.percentile(df_boston['DIS'], 25,\n",
        "                   interpolation = 'midpoint')\n",
        "\n",
        "Q3 = np.percentile(df_boston['DIS'], 75,\n",
        "                   interpolation = 'midpoint')\n",
        "IQR = Q3 - Q1\n",
        "\n",
        "print(\"Old Shape: \", df_boston.shape)\n",
        "\n",
        "# Upper bound\n",
        "upper = np.where(df_boston['DIS'] >= (Q3+1.5*IQR))\n",
        "# Lower bound\n",
        "lower = np.where(df_boston['DIS'] <= (Q1-1.5*IQR))\n",
        "\n",
        "''' Removing the Outliers '''\n",
        "df_boston.drop(upper[0], inplace = True)\n",
        "df_boston.drop(lower[0], inplace = True)\n",
        "\n",
        "print(\"New Shape: \", df_boston.shape)"
      ]
    },
    {
      "cell_type": "code",
      "execution_count": null,
      "id": "45a10bf0",
      "metadata": {
        "id": "45a10bf0",
        "outputId": "8632b496-ebe2-4819-f1ae-67b61803dbc4"
      },
      "outputs": [
        {
          "name": "stderr",
          "output_type": "stream",
          "text": [
            "C:\\Users\\Surya S\\anaconda3\\lib\\site-packages\\seaborn\\_decorators.py:36: FutureWarning: Pass the following variable as a keyword arg: x. From version 0.12, the only valid positional argument will be `data`, and passing other arguments without an explicit keyword will result in an error or misinterpretation.\n",
            "  warnings.warn(\n"
          ]
        },
        {
          "data": {
            "text/plain": [
              "<AxesSubplot:xlabel='DIS'>"
            ]
          },
          "execution_count": 11,
          "metadata": {},
          "output_type": "execute_result"
        },
        {
          "data": {
            "image/png": "[encoded data removed]",
            "text/plain": [
              "<Figure size 432x288 with 1 Axes>"
            ]
          },
          "metadata": {
            "needs_background": "light"
          },
          "output_type": "display_data"
        }
      ],
      "source": [
        "sns.boxplot(df_boston['DIS'])"
      ]
    }
  ],
  "metadata": {
    "kernelspec": {
      "display_name": "Python 3 (ipykernel)",
      "language": "python",
      "name": "python3"
    },
    "language_info": {
      "codemirror_mode": {
        "name": "ipython",
        "version": 3
      },
      "file_extension": ".py",
      "mimetype": "text/x-python",
      "name": "python",
      "nbconvert_exporter": "python",
      "pygments_lexer": "ipython3",
      "version": "3.11.3"
    },
    "colab": {
      "provenance": []
    }
  },
  "nbformat": 4,
  "nbformat_minor": 5
}